{
  "nbformat": 4,
  "nbformat_minor": 0,
  "metadata": {
    "colab": {
      "name": "Stock_Price_Prediction.ipynb",
      "provenance": [],
      "collapsed_sections": []
    },
    "kernelspec": {
      "name": "python3",
      "display_name": "Python 3"
    },
    "language_info": {
      "name": "python"
    }
  },
  "cells": [
    {
      "cell_type": "markdown",
      "metadata": {
        "id": "HVyxjrDlh4q-"
      },
      "source": [
        "# **IMPORTING NECESSARY LIBRARIES**"
      ]
    },
    {
      "cell_type": "code",
      "metadata": {
        "id": "AuyvTBAHh3aT"
      },
      "source": [
        "import datetime\n",
        "import numpy as np\n",
        "import pandas as pd\n",
        "import yfinance as yf\n",
        "import matplotlib.pyplot as plt"
      ],
      "execution_count": 1,
      "outputs": []
    },
    {
      "cell_type": "code",
      "metadata": {
        "id": "p2gD43mU9m7L"
      },
      "source": [
        "from sklearn.preprocessing import MinMaxScaler"
      ],
      "execution_count": 2,
      "outputs": []
    },
    {
      "cell_type": "code",
      "metadata": {
        "id": "bZX_XN7hJUmS"
      },
      "source": [
        "from tensorflow.keras import Sequential\n",
        "from tensorflow.keras.layers import LSTM\n",
        "from tensorflow.keras.layers import Dense\n",
        "from tensorflow.keras.layers import Dropout"
      ],
      "execution_count": 3,
      "outputs": []
    },
    {
      "cell_type": "markdown",
      "metadata": {
        "id": "bEKQFfC-immt"
      },
      "source": [
        "# **GETTING DATA**"
      ]
    },
    {
      "cell_type": "code",
      "metadata": {
        "colab": {
          "base_uri": "https://localhost:8080/"
        },
        "id": "DWXYmWGl_y-u",
        "outputId": "1375065d-f8f7-4cbf-ac30-8f98f73e69ae"
      },
      "source": [
        "ticker = input('Enter Ticker Symbol --> ')\n",
        "start_time = input('Enter Start Time(in yyyy-mm-dd) --> ')\n",
        "end_time = datetime.datetime.now()\n",
        "end_time = end_time.strftime('%Y-%m-%d')"
      ],
      "execution_count": 4,
      "outputs": [
        {
          "output_type": "stream",
          "text": [
            "Enter Ticker Symbol --> INFY\n",
            "Enter Start Time(in yyyy-mm-dd) --> 2015-01-01\n"
          ],
          "name": "stdout"
        }
      ]
    },
    {
      "cell_type": "code",
      "metadata": {
        "colab": {
          "base_uri": "https://localhost:8080/",
          "height": 467
        },
        "id": "NYe1XxWc_z8B",
        "outputId": "4fd48745-72db-46fd-c6a8-f43f14bede32"
      },
      "source": [
        "df = pd.DataFrame()\n",
        "df = yf.download(ticker, start=start_time, end=end_time)\n",
        "df"
      ],
      "execution_count": 5,
      "outputs": [
        {
          "output_type": "stream",
          "text": [
            "\r[*********************100%***********************]  1 of 1 completed\n"
          ],
          "name": "stdout"
        },
        {
          "output_type": "execute_result",
          "data": {
            "text/html": [
              "<div>\n",
              "<style scoped>\n",
              "    .dataframe tbody tr th:only-of-type {\n",
              "        vertical-align: middle;\n",
              "    }\n",
              "\n",
              "    .dataframe tbody tr th {\n",
              "        vertical-align: top;\n",
              "    }\n",
              "\n",
              "    .dataframe thead th {\n",
              "        text-align: right;\n",
              "    }\n",
              "</style>\n",
              "<table border=\"1\" class=\"dataframe\">\n",
              "  <thead>\n",
              "    <tr style=\"text-align: right;\">\n",
              "      <th></th>\n",
              "      <th>Open</th>\n",
              "      <th>High</th>\n",
              "      <th>Low</th>\n",
              "      <th>Close</th>\n",
              "      <th>Adj Close</th>\n",
              "      <th>Volume</th>\n",
              "    </tr>\n",
              "    <tr>\n",
              "      <th>Date</th>\n",
              "      <th></th>\n",
              "      <th></th>\n",
              "      <th></th>\n",
              "      <th></th>\n",
              "      <th></th>\n",
              "      <th></th>\n",
              "    </tr>\n",
              "  </thead>\n",
              "  <tbody>\n",
              "    <tr>\n",
              "      <th>2015-01-02</th>\n",
              "      <td>8.057500</td>\n",
              "      <td>8.0600</td>\n",
              "      <td>7.915000</td>\n",
              "      <td>7.975000</td>\n",
              "      <td>6.689279</td>\n",
              "      <td>13401600</td>\n",
              "    </tr>\n",
              "    <tr>\n",
              "      <th>2015-01-05</th>\n",
              "      <td>7.917500</td>\n",
              "      <td>7.9350</td>\n",
              "      <td>7.835000</td>\n",
              "      <td>7.875000</td>\n",
              "      <td>6.605400</td>\n",
              "      <td>10076400</td>\n",
              "    </tr>\n",
              "    <tr>\n",
              "      <th>2015-01-06</th>\n",
              "      <td>7.847500</td>\n",
              "      <td>7.9250</td>\n",
              "      <td>7.695000</td>\n",
              "      <td>7.820000</td>\n",
              "      <td>6.559267</td>\n",
              "      <td>13290800</td>\n",
              "    </tr>\n",
              "    <tr>\n",
              "      <th>2015-01-07</th>\n",
              "      <td>7.850000</td>\n",
              "      <td>8.0475</td>\n",
              "      <td>7.845000</td>\n",
              "      <td>7.985000</td>\n",
              "      <td>6.697666</td>\n",
              "      <td>23202800</td>\n",
              "    </tr>\n",
              "    <tr>\n",
              "      <th>2015-01-08</th>\n",
              "      <td>8.012500</td>\n",
              "      <td>8.0800</td>\n",
              "      <td>8.002500</td>\n",
              "      <td>8.027500</td>\n",
              "      <td>6.733314</td>\n",
              "      <td>14087200</td>\n",
              "    </tr>\n",
              "    <tr>\n",
              "      <th>...</th>\n",
              "      <td>...</td>\n",
              "      <td>...</td>\n",
              "      <td>...</td>\n",
              "      <td>...</td>\n",
              "      <td>...</td>\n",
              "      <td>...</td>\n",
              "    </tr>\n",
              "    <tr>\n",
              "      <th>2021-06-28</th>\n",
              "      <td>21.370001</td>\n",
              "      <td>21.5000</td>\n",
              "      <td>21.200001</td>\n",
              "      <td>21.290001</td>\n",
              "      <td>21.290001</td>\n",
              "      <td>4669000</td>\n",
              "    </tr>\n",
              "    <tr>\n",
              "      <th>2021-06-29</th>\n",
              "      <td>21.309999</td>\n",
              "      <td>21.5000</td>\n",
              "      <td>21.219999</td>\n",
              "      <td>21.450001</td>\n",
              "      <td>21.450001</td>\n",
              "      <td>4748600</td>\n",
              "    </tr>\n",
              "    <tr>\n",
              "      <th>2021-06-30</th>\n",
              "      <td>21.410000</td>\n",
              "      <td>21.4300</td>\n",
              "      <td>21.170000</td>\n",
              "      <td>21.190001</td>\n",
              "      <td>21.190001</td>\n",
              "      <td>6493500</td>\n",
              "    </tr>\n",
              "    <tr>\n",
              "      <th>2021-07-01</th>\n",
              "      <td>21.180000</td>\n",
              "      <td>21.2400</td>\n",
              "      <td>20.840000</td>\n",
              "      <td>20.959999</td>\n",
              "      <td>20.959999</td>\n",
              "      <td>4670600</td>\n",
              "    </tr>\n",
              "    <tr>\n",
              "      <th>2021-07-02</th>\n",
              "      <td>21.100000</td>\n",
              "      <td>21.1500</td>\n",
              "      <td>21.020000</td>\n",
              "      <td>21.070000</td>\n",
              "      <td>21.070000</td>\n",
              "      <td>4908600</td>\n",
              "    </tr>\n",
              "  </tbody>\n",
              "</table>\n",
              "<p>1637 rows × 6 columns</p>\n",
              "</div>"
            ],
            "text/plain": [
              "                 Open     High        Low      Close  Adj Close    Volume\n",
              "Date                                                                     \n",
              "2015-01-02   8.057500   8.0600   7.915000   7.975000   6.689279  13401600\n",
              "2015-01-05   7.917500   7.9350   7.835000   7.875000   6.605400  10076400\n",
              "2015-01-06   7.847500   7.9250   7.695000   7.820000   6.559267  13290800\n",
              "2015-01-07   7.850000   8.0475   7.845000   7.985000   6.697666  23202800\n",
              "2015-01-08   8.012500   8.0800   8.002500   8.027500   6.733314  14087200\n",
              "...               ...      ...        ...        ...        ...       ...\n",
              "2021-06-28  21.370001  21.5000  21.200001  21.290001  21.290001   4669000\n",
              "2021-06-29  21.309999  21.5000  21.219999  21.450001  21.450001   4748600\n",
              "2021-06-30  21.410000  21.4300  21.170000  21.190001  21.190001   6493500\n",
              "2021-07-01  21.180000  21.2400  20.840000  20.959999  20.959999   4670600\n",
              "2021-07-02  21.100000  21.1500  21.020000  21.070000  21.070000   4908600\n",
              "\n",
              "[1637 rows x 6 columns]"
            ]
          },
          "metadata": {
            "tags": []
          },
          "execution_count": 5
        }
      ]
    },
    {
      "cell_type": "markdown",
      "metadata": {
        "id": "AM7Ddjz_irvZ"
      },
      "source": [
        "# **DATA PRE-PROCESSING**"
      ]
    },
    {
      "cell_type": "code",
      "metadata": {
        "colab": {
          "base_uri": "https://localhost:8080/",
          "height": 450
        },
        "id": "PpncPhXDWyaZ",
        "outputId": "75bf481c-1716-47cf-e58b-e4f891b0b197"
      },
      "source": [
        "df = df.drop('Adj Close', axis=1)\n",
        "df"
      ],
      "execution_count": 6,
      "outputs": [
        {
          "output_type": "execute_result",
          "data": {
            "text/html": [
              "<div>\n",
              "<style scoped>\n",
              "    .dataframe tbody tr th:only-of-type {\n",
              "        vertical-align: middle;\n",
              "    }\n",
              "\n",
              "    .dataframe tbody tr th {\n",
              "        vertical-align: top;\n",
              "    }\n",
              "\n",
              "    .dataframe thead th {\n",
              "        text-align: right;\n",
              "    }\n",
              "</style>\n",
              "<table border=\"1\" class=\"dataframe\">\n",
              "  <thead>\n",
              "    <tr style=\"text-align: right;\">\n",
              "      <th></th>\n",
              "      <th>Open</th>\n",
              "      <th>High</th>\n",
              "      <th>Low</th>\n",
              "      <th>Close</th>\n",
              "      <th>Volume</th>\n",
              "    </tr>\n",
              "    <tr>\n",
              "      <th>Date</th>\n",
              "      <th></th>\n",
              "      <th></th>\n",
              "      <th></th>\n",
              "      <th></th>\n",
              "      <th></th>\n",
              "    </tr>\n",
              "  </thead>\n",
              "  <tbody>\n",
              "    <tr>\n",
              "      <th>2015-01-02</th>\n",
              "      <td>8.057500</td>\n",
              "      <td>8.0600</td>\n",
              "      <td>7.915000</td>\n",
              "      <td>7.975000</td>\n",
              "      <td>13401600</td>\n",
              "    </tr>\n",
              "    <tr>\n",
              "      <th>2015-01-05</th>\n",
              "      <td>7.917500</td>\n",
              "      <td>7.9350</td>\n",
              "      <td>7.835000</td>\n",
              "      <td>7.875000</td>\n",
              "      <td>10076400</td>\n",
              "    </tr>\n",
              "    <tr>\n",
              "      <th>2015-01-06</th>\n",
              "      <td>7.847500</td>\n",
              "      <td>7.9250</td>\n",
              "      <td>7.695000</td>\n",
              "      <td>7.820000</td>\n",
              "      <td>13290800</td>\n",
              "    </tr>\n",
              "    <tr>\n",
              "      <th>2015-01-07</th>\n",
              "      <td>7.850000</td>\n",
              "      <td>8.0475</td>\n",
              "      <td>7.845000</td>\n",
              "      <td>7.985000</td>\n",
              "      <td>23202800</td>\n",
              "    </tr>\n",
              "    <tr>\n",
              "      <th>2015-01-08</th>\n",
              "      <td>8.012500</td>\n",
              "      <td>8.0800</td>\n",
              "      <td>8.002500</td>\n",
              "      <td>8.027500</td>\n",
              "      <td>14087200</td>\n",
              "    </tr>\n",
              "    <tr>\n",
              "      <th>...</th>\n",
              "      <td>...</td>\n",
              "      <td>...</td>\n",
              "      <td>...</td>\n",
              "      <td>...</td>\n",
              "      <td>...</td>\n",
              "    </tr>\n",
              "    <tr>\n",
              "      <th>2021-06-28</th>\n",
              "      <td>21.370001</td>\n",
              "      <td>21.5000</td>\n",
              "      <td>21.200001</td>\n",
              "      <td>21.290001</td>\n",
              "      <td>4669000</td>\n",
              "    </tr>\n",
              "    <tr>\n",
              "      <th>2021-06-29</th>\n",
              "      <td>21.309999</td>\n",
              "      <td>21.5000</td>\n",
              "      <td>21.219999</td>\n",
              "      <td>21.450001</td>\n",
              "      <td>4748600</td>\n",
              "    </tr>\n",
              "    <tr>\n",
              "      <th>2021-06-30</th>\n",
              "      <td>21.410000</td>\n",
              "      <td>21.4300</td>\n",
              "      <td>21.170000</td>\n",
              "      <td>21.190001</td>\n",
              "      <td>6493500</td>\n",
              "    </tr>\n",
              "    <tr>\n",
              "      <th>2021-07-01</th>\n",
              "      <td>21.180000</td>\n",
              "      <td>21.2400</td>\n",
              "      <td>20.840000</td>\n",
              "      <td>20.959999</td>\n",
              "      <td>4670600</td>\n",
              "    </tr>\n",
              "    <tr>\n",
              "      <th>2021-07-02</th>\n",
              "      <td>21.100000</td>\n",
              "      <td>21.1500</td>\n",
              "      <td>21.020000</td>\n",
              "      <td>21.070000</td>\n",
              "      <td>4908600</td>\n",
              "    </tr>\n",
              "  </tbody>\n",
              "</table>\n",
              "<p>1637 rows × 5 columns</p>\n",
              "</div>"
            ],
            "text/plain": [
              "                 Open     High        Low      Close    Volume\n",
              "Date                                                          \n",
              "2015-01-02   8.057500   8.0600   7.915000   7.975000  13401600\n",
              "2015-01-05   7.917500   7.9350   7.835000   7.875000  10076400\n",
              "2015-01-06   7.847500   7.9250   7.695000   7.820000  13290800\n",
              "2015-01-07   7.850000   8.0475   7.845000   7.985000  23202800\n",
              "2015-01-08   8.012500   8.0800   8.002500   8.027500  14087200\n",
              "...               ...      ...        ...        ...       ...\n",
              "2021-06-28  21.370001  21.5000  21.200001  21.290001   4669000\n",
              "2021-06-29  21.309999  21.5000  21.219999  21.450001   4748600\n",
              "2021-06-30  21.410000  21.4300  21.170000  21.190001   6493500\n",
              "2021-07-01  21.180000  21.2400  20.840000  20.959999   4670600\n",
              "2021-07-02  21.100000  21.1500  21.020000  21.070000   4908600\n",
              "\n",
              "[1637 rows x 5 columns]"
            ]
          },
          "metadata": {
            "tags": []
          },
          "execution_count": 6
        }
      ]
    },
    {
      "cell_type": "code",
      "metadata": {
        "id": "SN5O5EFrVo_F"
      },
      "source": [
        "train = df.iloc[:1437]\n",
        "test = df.iloc[1437:]"
      ],
      "execution_count": 7,
      "outputs": []
    },
    {
      "cell_type": "code",
      "metadata": {
        "id": "ipwkVunCWtoN"
      },
      "source": [
        "scaler_train = MinMaxScaler()\n",
        "train = scaler_train.fit_transform(train)\n",
        "\n",
        "X_train = []\n",
        "Y_train = []\n",
        "\n",
        "for i in range(60, len(train)):\n",
        "  X_train.append(train[i-60:i])\n",
        "  Y_train.append(train[i, 0])\n",
        "\n",
        "X_train = np.array(X_train)\n",
        "Y_train = np.array(Y_train)"
      ],
      "execution_count": 8,
      "outputs": []
    },
    {
      "cell_type": "code",
      "metadata": {
        "id": "j_So2E05eanw"
      },
      "source": [
        "scaler_test = MinMaxScaler()\n",
        "test = scaler_test.fit_transform(test)\n",
        "\n",
        "X_test = []\n",
        "Y_test = []\n",
        "\n",
        "for i in range(60, len(test)):\n",
        "  X_test.append(test[i-60:i])\n",
        "  Y_test.append(test[i, 0])\n",
        "\n",
        "X_test = np.array(X_test)\n",
        "Y_test = np.array(Y_test)"
      ],
      "execution_count": 9,
      "outputs": []
    },
    {
      "cell_type": "markdown",
      "metadata": {
        "id": "sDK6P1QHix5u"
      },
      "source": [
        "# **LSTM MODEL**"
      ]
    },
    {
      "cell_type": "code",
      "metadata": {
        "id": "oT5-5v5ja7MC"
      },
      "source": [
        "model = Sequential()\n",
        "\n",
        "model.add(LSTM(units=60, activation= 'tanh', return_sequences=True, input_shape=(60,5)))\n",
        "model.add(Dropout(0.2))\n",
        "\n",
        "model.add(LSTM(units=60, activation= 'tanh', return_sequences=True))\n",
        "model.add(Dropout(0.2))\n",
        "\n",
        "model.add(LSTM(units=60, activation= 'tanh', return_sequences=True))\n",
        "model.add(Dropout(0.2))\n",
        "\n",
        "model.add(LSTM(units=120, activation= 'tanh'))\n",
        "model.add(Dropout(0.2))\n",
        "\n",
        "model.add(Dense(units=1))"
      ],
      "execution_count": 10,
      "outputs": []
    },
    {
      "cell_type": "code",
      "metadata": {
        "colab": {
          "base_uri": "https://localhost:8080/"
        },
        "id": "8DYxn3dqdNsl",
        "outputId": "20eee1eb-0a8a-465f-9f80-1fbdc67c6628"
      },
      "source": [
        "model.compile(optimizer = 'adam',\n",
        "              loss = 'mean_squared_error',\n",
        "              metrics = ['MeanSquaredError'])\n",
        "model.summary()"
      ],
      "execution_count": 12,
      "outputs": [
        {
          "output_type": "stream",
          "text": [
            "Model: \"sequential\"\n",
            "_________________________________________________________________\n",
            "Layer (type)                 Output Shape              Param #   \n",
            "=================================================================\n",
            "lstm (LSTM)                  (None, 60, 60)            15840     \n",
            "_________________________________________________________________\n",
            "dropout (Dropout)            (None, 60, 60)            0         \n",
            "_________________________________________________________________\n",
            "lstm_1 (LSTM)                (None, 60, 60)            29040     \n",
            "_________________________________________________________________\n",
            "dropout_1 (Dropout)          (None, 60, 60)            0         \n",
            "_________________________________________________________________\n",
            "lstm_2 (LSTM)                (None, 60, 60)            29040     \n",
            "_________________________________________________________________\n",
            "dropout_2 (Dropout)          (None, 60, 60)            0         \n",
            "_________________________________________________________________\n",
            "lstm_3 (LSTM)                (None, 120)               86880     \n",
            "_________________________________________________________________\n",
            "dropout_3 (Dropout)          (None, 120)               0         \n",
            "_________________________________________________________________\n",
            "dense (Dense)                (None, 1)                 121       \n",
            "=================================================================\n",
            "Total params: 160,921\n",
            "Trainable params: 160,921\n",
            "Non-trainable params: 0\n",
            "_________________________________________________________________\n"
          ],
          "name": "stdout"
        }
      ]
    },
    {
      "cell_type": "markdown",
      "metadata": {
        "id": "U0vpHVybjhHU"
      },
      "source": [
        "# **TRAINING THE DATA**"
      ]
    },
    {
      "cell_type": "code",
      "metadata": {
        "colab": {
          "base_uri": "https://localhost:8080/"
        },
        "id": "wf-mu_jMduT9",
        "outputId": "c4066470-276d-4850-c164-d96e974684bd"
      },
      "source": [
        "history = model.fit(X_train, \n",
        "                    Y_train, \n",
        "                    epochs=120)"
      ],
      "execution_count": 14,
      "outputs": [
        {
          "output_type": "stream",
          "text": [
            "Epoch 1/120\n",
            "44/44 [==============================] - 13s 141ms/step - loss: 0.0218 - mean_squared_error: 0.0218\n",
            "Epoch 2/120\n",
            "44/44 [==============================] - 6s 138ms/step - loss: 0.0064 - mean_squared_error: 0.0064\n",
            "Epoch 3/120\n",
            "44/44 [==============================] - 6s 138ms/step - loss: 0.0053 - mean_squared_error: 0.0053\n",
            "Epoch 4/120\n",
            "44/44 [==============================] - 6s 139ms/step - loss: 0.0047 - mean_squared_error: 0.0047\n",
            "Epoch 5/120\n",
            "44/44 [==============================] - 6s 140ms/step - loss: 0.0050 - mean_squared_error: 0.0050\n",
            "Epoch 6/120\n",
            "44/44 [==============================] - 6s 139ms/step - loss: 0.0049 - mean_squared_error: 0.0049\n",
            "Epoch 7/120\n",
            "44/44 [==============================] - 6s 138ms/step - loss: 0.0041 - mean_squared_error: 0.0041\n",
            "Epoch 8/120\n",
            "44/44 [==============================] - 6s 137ms/step - loss: 0.0039 - mean_squared_error: 0.0039\n",
            "Epoch 9/120\n",
            "44/44 [==============================] - 6s 140ms/step - loss: 0.0031 - mean_squared_error: 0.0031\n",
            "Epoch 10/120\n",
            "44/44 [==============================] - 6s 137ms/step - loss: 0.0035 - mean_squared_error: 0.0035\n",
            "Epoch 11/120\n",
            "44/44 [==============================] - 6s 140ms/step - loss: 0.0030 - mean_squared_error: 0.0030\n",
            "Epoch 12/120\n",
            "44/44 [==============================] - 6s 136ms/step - loss: 0.0031 - mean_squared_error: 0.0031\n",
            "Epoch 13/120\n",
            "44/44 [==============================] - 6s 136ms/step - loss: 0.0036 - mean_squared_error: 0.0036\n",
            "Epoch 14/120\n",
            "44/44 [==============================] - 6s 138ms/step - loss: 0.0031 - mean_squared_error: 0.0031\n",
            "Epoch 15/120\n",
            "44/44 [==============================] - 6s 136ms/step - loss: 0.0028 - mean_squared_error: 0.0028\n",
            "Epoch 16/120\n",
            "44/44 [==============================] - 6s 137ms/step - loss: 0.0029 - mean_squared_error: 0.0029\n",
            "Epoch 17/120\n",
            "44/44 [==============================] - 6s 138ms/step - loss: 0.0026 - mean_squared_error: 0.0026\n",
            "Epoch 18/120\n",
            "44/44 [==============================] - 6s 138ms/step - loss: 0.0026 - mean_squared_error: 0.0026\n",
            "Epoch 19/120\n",
            "44/44 [==============================] - 6s 138ms/step - loss: 0.0026 - mean_squared_error: 0.0026\n",
            "Epoch 20/120\n",
            "44/44 [==============================] - 6s 137ms/step - loss: 0.0022 - mean_squared_error: 0.0022\n",
            "Epoch 21/120\n",
            "44/44 [==============================] - 6s 139ms/step - loss: 0.0023 - mean_squared_error: 0.0023\n",
            "Epoch 22/120\n",
            "44/44 [==============================] - 6s 140ms/step - loss: 0.0023 - mean_squared_error: 0.0023\n",
            "Epoch 23/120\n",
            "44/44 [==============================] - 6s 137ms/step - loss: 0.0026 - mean_squared_error: 0.0026\n",
            "Epoch 24/120\n",
            "44/44 [==============================] - 6s 139ms/step - loss: 0.0021 - mean_squared_error: 0.0021\n",
            "Epoch 25/120\n",
            "44/44 [==============================] - 6s 135ms/step - loss: 0.0020 - mean_squared_error: 0.0020\n",
            "Epoch 26/120\n",
            "44/44 [==============================] - 6s 137ms/step - loss: 0.0019 - mean_squared_error: 0.0019\n",
            "Epoch 27/120\n",
            "44/44 [==============================] - 6s 137ms/step - loss: 0.0021 - mean_squared_error: 0.0021\n",
            "Epoch 28/120\n",
            "44/44 [==============================] - 6s 136ms/step - loss: 0.0019 - mean_squared_error: 0.0019\n",
            "Epoch 29/120\n",
            "44/44 [==============================] - 6s 137ms/step - loss: 0.0017 - mean_squared_error: 0.0017\n",
            "Epoch 30/120\n",
            "44/44 [==============================] - 6s 139ms/step - loss: 0.0017 - mean_squared_error: 0.0017\n",
            "Epoch 31/120\n",
            "44/44 [==============================] - 6s 137ms/step - loss: 0.0017 - mean_squared_error: 0.0017\n",
            "Epoch 32/120\n",
            "44/44 [==============================] - 6s 136ms/step - loss: 0.0017 - mean_squared_error: 0.0017\n",
            "Epoch 33/120\n",
            "44/44 [==============================] - 6s 138ms/step - loss: 0.0016 - mean_squared_error: 0.0016\n",
            "Epoch 34/120\n",
            "44/44 [==============================] - 6s 138ms/step - loss: 0.0016 - mean_squared_error: 0.0016\n",
            "Epoch 35/120\n",
            "44/44 [==============================] - 6s 137ms/step - loss: 0.0014 - mean_squared_error: 0.0014\n",
            "Epoch 36/120\n",
            "44/44 [==============================] - 6s 138ms/step - loss: 0.0016 - mean_squared_error: 0.0016\n",
            "Epoch 37/120\n",
            "44/44 [==============================] - 6s 138ms/step - loss: 0.0015 - mean_squared_error: 0.0015\n",
            "Epoch 38/120\n",
            "44/44 [==============================] - 6s 137ms/step - loss: 0.0015 - mean_squared_error: 0.0015\n",
            "Epoch 39/120\n",
            "44/44 [==============================] - 6s 138ms/step - loss: 0.0017 - mean_squared_error: 0.0017\n",
            "Epoch 40/120\n",
            "44/44 [==============================] - 6s 138ms/step - loss: 0.0016 - mean_squared_error: 0.0016\n",
            "Epoch 41/120\n",
            "44/44 [==============================] - 6s 137ms/step - loss: 0.0016 - mean_squared_error: 0.0016\n",
            "Epoch 42/120\n",
            "44/44 [==============================] - 6s 137ms/step - loss: 0.0014 - mean_squared_error: 0.0014\n",
            "Epoch 43/120\n",
            "44/44 [==============================] - 6s 138ms/step - loss: 0.0012 - mean_squared_error: 0.0012\n",
            "Epoch 44/120\n",
            "44/44 [==============================] - 6s 137ms/step - loss: 0.0013 - mean_squared_error: 0.0013\n",
            "Epoch 45/120\n",
            "44/44 [==============================] - 6s 139ms/step - loss: 0.0015 - mean_squared_error: 0.0015\n",
            "Epoch 46/120\n",
            "44/44 [==============================] - 6s 138ms/step - loss: 0.0013 - mean_squared_error: 0.0013\n",
            "Epoch 47/120\n",
            "44/44 [==============================] - 6s 142ms/step - loss: 0.0013 - mean_squared_error: 0.0013\n",
            "Epoch 48/120\n",
            "44/44 [==============================] - 6s 140ms/step - loss: 0.0012 - mean_squared_error: 0.0012\n",
            "Epoch 49/120\n",
            "44/44 [==============================] - 6s 139ms/step - loss: 0.0013 - mean_squared_error: 0.0013\n",
            "Epoch 50/120\n",
            "44/44 [==============================] - 6s 139ms/step - loss: 0.0013 - mean_squared_error: 0.0013\n",
            "Epoch 51/120\n",
            "44/44 [==============================] - 6s 139ms/step - loss: 0.0014 - mean_squared_error: 0.0014\n",
            "Epoch 52/120\n",
            "44/44 [==============================] - 6s 138ms/step - loss: 0.0012 - mean_squared_error: 0.0012\n",
            "Epoch 53/120\n",
            "44/44 [==============================] - 6s 137ms/step - loss: 0.0012 - mean_squared_error: 0.0012\n",
            "Epoch 54/120\n",
            "44/44 [==============================] - 6s 140ms/step - loss: 0.0011 - mean_squared_error: 0.0011\n",
            "Epoch 55/120\n",
            "44/44 [==============================] - 6s 138ms/step - loss: 0.0011 - mean_squared_error: 0.0011\n",
            "Epoch 56/120\n",
            "44/44 [==============================] - 6s 140ms/step - loss: 0.0011 - mean_squared_error: 0.0011\n",
            "Epoch 57/120\n",
            "44/44 [==============================] - 6s 141ms/step - loss: 0.0013 - mean_squared_error: 0.0013\n",
            "Epoch 58/120\n",
            "44/44 [==============================] - 6s 139ms/step - loss: 0.0022 - mean_squared_error: 0.0022\n",
            "Epoch 59/120\n",
            "44/44 [==============================] - 6s 138ms/step - loss: 0.0026 - mean_squared_error: 0.0026\n",
            "Epoch 60/120\n",
            "44/44 [==============================] - 6s 141ms/step - loss: 0.0012 - mean_squared_error: 0.0012\n",
            "Epoch 61/120\n",
            "44/44 [==============================] - 6s 138ms/step - loss: 0.0012 - mean_squared_error: 0.0012\n",
            "Epoch 62/120\n",
            "44/44 [==============================] - 6s 138ms/step - loss: 0.0011 - mean_squared_error: 0.0011\n",
            "Epoch 63/120\n",
            "44/44 [==============================] - 6s 141ms/step - loss: 0.0013 - mean_squared_error: 0.0013\n",
            "Epoch 64/120\n",
            "44/44 [==============================] - 6s 138ms/step - loss: 0.0012 - mean_squared_error: 0.0012\n",
            "Epoch 65/120\n",
            "44/44 [==============================] - 6s 138ms/step - loss: 0.0010 - mean_squared_error: 0.0010\n",
            "Epoch 66/120\n",
            "44/44 [==============================] - 6s 138ms/step - loss: 0.0011 - mean_squared_error: 0.0011\n",
            "Epoch 67/120\n",
            "44/44 [==============================] - 6s 138ms/step - loss: 0.0011 - mean_squared_error: 0.0011\n",
            "Epoch 68/120\n",
            "44/44 [==============================] - 6s 138ms/step - loss: 0.0011 - mean_squared_error: 0.0011\n",
            "Epoch 69/120\n",
            "44/44 [==============================] - 6s 139ms/step - loss: 0.0010 - mean_squared_error: 0.0010\n",
            "Epoch 70/120\n",
            "44/44 [==============================] - 6s 138ms/step - loss: 9.6868e-04 - mean_squared_error: 9.6868e-04\n",
            "Epoch 71/120\n",
            "44/44 [==============================] - 6s 138ms/step - loss: 0.0013 - mean_squared_error: 0.0013\n",
            "Epoch 72/120\n",
            "44/44 [==============================] - 6s 137ms/step - loss: 0.0010 - mean_squared_error: 0.0010\n",
            "Epoch 73/120\n",
            "44/44 [==============================] - 6s 137ms/step - loss: 0.0011 - mean_squared_error: 0.0011\n",
            "Epoch 74/120\n",
            "44/44 [==============================] - 6s 139ms/step - loss: 9.9895e-04 - mean_squared_error: 9.9895e-04\n",
            "Epoch 75/120\n",
            "44/44 [==============================] - 6s 139ms/step - loss: 8.8524e-04 - mean_squared_error: 8.8524e-04\n",
            "Epoch 76/120\n",
            "44/44 [==============================] - 6s 137ms/step - loss: 9.6811e-04 - mean_squared_error: 9.6811e-04\n",
            "Epoch 77/120\n",
            "44/44 [==============================] - 6s 142ms/step - loss: 8.4751e-04 - mean_squared_error: 8.4751e-04\n",
            "Epoch 78/120\n",
            "44/44 [==============================] - 6s 140ms/step - loss: 9.3713e-04 - mean_squared_error: 9.3713e-04\n",
            "Epoch 79/120\n",
            "44/44 [==============================] - 6s 137ms/step - loss: 0.0013 - mean_squared_error: 0.0013\n",
            "Epoch 80/120\n",
            "44/44 [==============================] - 6s 141ms/step - loss: 0.0014 - mean_squared_error: 0.0014\n",
            "Epoch 81/120\n",
            "44/44 [==============================] - 6s 138ms/step - loss: 9.4018e-04 - mean_squared_error: 9.4018e-04\n",
            "Epoch 82/120\n",
            "44/44 [==============================] - 6s 138ms/step - loss: 0.0011 - mean_squared_error: 0.0011\n",
            "Epoch 83/120\n",
            "44/44 [==============================] - 6s 137ms/step - loss: 0.0011 - mean_squared_error: 0.0011\n",
            "Epoch 84/120\n",
            "44/44 [==============================] - 6s 141ms/step - loss: 0.0011 - mean_squared_error: 0.0011\n",
            "Epoch 85/120\n",
            "44/44 [==============================] - 6s 138ms/step - loss: 9.6258e-04 - mean_squared_error: 9.6258e-04\n",
            "Epoch 86/120\n",
            "44/44 [==============================] - 6s 139ms/step - loss: 8.4623e-04 - mean_squared_error: 8.4623e-04\n",
            "Epoch 87/120\n",
            "44/44 [==============================] - 6s 137ms/step - loss: 9.8905e-04 - mean_squared_error: 9.8905e-04\n",
            "Epoch 88/120\n",
            "44/44 [==============================] - 6s 137ms/step - loss: 9.5343e-04 - mean_squared_error: 9.5343e-04\n",
            "Epoch 89/120\n",
            "44/44 [==============================] - 6s 139ms/step - loss: 0.0012 - mean_squared_error: 0.0012\n",
            "Epoch 90/120\n",
            "44/44 [==============================] - 6s 137ms/step - loss: 0.0011 - mean_squared_error: 0.0011\n",
            "Epoch 91/120\n",
            "44/44 [==============================] - 6s 139ms/step - loss: 0.0010 - mean_squared_error: 0.0010\n",
            "Epoch 92/120\n",
            "44/44 [==============================] - 6s 137ms/step - loss: 0.0013 - mean_squared_error: 0.0013\n",
            "Epoch 93/120\n",
            "44/44 [==============================] - 6s 137ms/step - loss: 9.9831e-04 - mean_squared_error: 9.9831e-04\n",
            "Epoch 94/120\n",
            "44/44 [==============================] - 6s 142ms/step - loss: 0.0019 - mean_squared_error: 0.0019\n",
            "Epoch 95/120\n",
            "44/44 [==============================] - 6s 136ms/step - loss: 0.0010 - mean_squared_error: 0.0010\n",
            "Epoch 96/120\n",
            "44/44 [==============================] - 6s 135ms/step - loss: 0.0010 - mean_squared_error: 0.0010\n",
            "Epoch 97/120\n",
            "44/44 [==============================] - 6s 136ms/step - loss: 9.2739e-04 - mean_squared_error: 9.2739e-04\n",
            "Epoch 98/120\n",
            "44/44 [==============================] - 6s 139ms/step - loss: 8.8053e-04 - mean_squared_error: 8.8053e-04\n",
            "Epoch 99/120\n",
            "44/44 [==============================] - 6s 135ms/step - loss: 9.3247e-04 - mean_squared_error: 9.3247e-04\n",
            "Epoch 100/120\n",
            "44/44 [==============================] - 6s 138ms/step - loss: 8.1703e-04 - mean_squared_error: 8.1703e-04\n",
            "Epoch 101/120\n",
            "44/44 [==============================] - 6s 137ms/step - loss: 8.7338e-04 - mean_squared_error: 8.7338e-04\n",
            "Epoch 102/120\n",
            "44/44 [==============================] - 6s 137ms/step - loss: 8.9685e-04 - mean_squared_error: 8.9685e-04\n",
            "Epoch 103/120\n",
            "44/44 [==============================] - 6s 138ms/step - loss: 8.6853e-04 - mean_squared_error: 8.6853e-04\n",
            "Epoch 104/120\n",
            "44/44 [==============================] - 6s 138ms/step - loss: 8.9630e-04 - mean_squared_error: 8.9630e-04\n",
            "Epoch 105/120\n",
            "44/44 [==============================] - 6s 138ms/step - loss: 8.8602e-04 - mean_squared_error: 8.8602e-04\n",
            "Epoch 106/120\n",
            "44/44 [==============================] - 6s 138ms/step - loss: 9.1084e-04 - mean_squared_error: 9.1084e-04\n",
            "Epoch 107/120\n",
            "44/44 [==============================] - 6s 137ms/step - loss: 9.1711e-04 - mean_squared_error: 9.1711e-04\n",
            "Epoch 108/120\n",
            "44/44 [==============================] - 6s 140ms/step - loss: 8.4000e-04 - mean_squared_error: 8.4000e-04\n",
            "Epoch 109/120\n",
            "44/44 [==============================] - 6s 138ms/step - loss: 8.6150e-04 - mean_squared_error: 8.6150e-04\n",
            "Epoch 110/120\n",
            "44/44 [==============================] - 6s 138ms/step - loss: 0.0016 - mean_squared_error: 0.0016\n",
            "Epoch 111/120\n",
            "44/44 [==============================] - 6s 138ms/step - loss: 8.6229e-04 - mean_squared_error: 8.6229e-04\n",
            "Epoch 112/120\n",
            "44/44 [==============================] - 6s 138ms/step - loss: 8.4790e-04 - mean_squared_error: 8.4790e-04\n",
            "Epoch 113/120\n",
            "44/44 [==============================] - 6s 141ms/step - loss: 0.0010 - mean_squared_error: 0.0010\n",
            "Epoch 114/120\n",
            "44/44 [==============================] - 6s 139ms/step - loss: 9.5716e-04 - mean_squared_error: 9.5716e-04\n",
            "Epoch 115/120\n",
            "44/44 [==============================] - 6s 142ms/step - loss: 8.0825e-04 - mean_squared_error: 8.0825e-04\n",
            "Epoch 116/120\n",
            "44/44 [==============================] - 6s 139ms/step - loss: 9.8098e-04 - mean_squared_error: 9.8098e-04\n",
            "Epoch 117/120\n",
            "44/44 [==============================] - 6s 138ms/step - loss: 9.0348e-04 - mean_squared_error: 9.0348e-04\n",
            "Epoch 118/120\n",
            "44/44 [==============================] - 6s 139ms/step - loss: 9.0357e-04 - mean_squared_error: 9.0357e-04\n",
            "Epoch 119/120\n",
            "44/44 [==============================] - 6s 140ms/step - loss: 9.6924e-04 - mean_squared_error: 9.6924e-04\n",
            "Epoch 120/120\n",
            "44/44 [==============================] - 6s 139ms/step - loss: 0.0022 - mean_squared_error: 0.0022\n"
          ],
          "name": "stdout"
        }
      ]
    },
    {
      "cell_type": "markdown",
      "metadata": {
        "id": "4N0MGf80rJLZ"
      },
      "source": [
        "# **LOSS PLOT**"
      ]
    },
    {
      "cell_type": "code",
      "metadata": {
        "colab": {
          "base_uri": "https://localhost:8080/",
          "height": 295
        },
        "id": "7Bk_QUnSrNQZ",
        "outputId": "757ebb8f-9a5c-487f-a189-07e64390284f"
      },
      "source": [
        "plt.plot(history.history['loss'])\n",
        "plt.xlim([0, 120])\n",
        "plt.ylim([0, 0.022])\n",
        "plt.xlabel('Epoch')\n",
        "plt.ylabel('Loss')\n",
        "plt.title('Epochs vs Loss')\n",
        "plt.show()"
      ],
      "execution_count": 15,
      "outputs": [
        {
          "output_type": "display_data",
          "data": {
            "image/png": "[encoded data removed]",
            "text/plain": [
              "<Figure size 432x288 with 1 Axes>"
            ]
          },
          "metadata": {
            "tags": [],
            "needs_background": "light"
          }
        }
      ]
    },
    {
      "cell_type": "markdown",
      "metadata": {
        "id": "lIt5kWqhxGv2"
      },
      "source": [
        "# **EVALUATION ON TEST DATA-SET**"
      ]
    },
    {
      "cell_type": "code",
      "metadata": {
        "colab": {
          "base_uri": "https://localhost:8080/"
        },
        "id": "hYXT2PuexMyw",
        "outputId": "99945fcb-27b9-4619-89c6-89081be0eff4"
      },
      "source": [
        "evalu= model.evaluate(X_test, Y_test, verbose=0)\n",
        "print('Mean Squared Error of model on Test Data-Set = ', (evalu[1]))"
      ],
      "execution_count": 19,
      "outputs": [
        {
          "output_type": "stream",
          "text": [
            "Mean Squared Error of model on Test Data-Set =  0.0010794269619509578\n"
          ],
          "name": "stdout"
        }
      ]
    },
    {
      "cell_type": "markdown",
      "metadata": {
        "id": "iKxHKRxZjtuR"
      },
      "source": [
        "# **PREDICTION ON TEST DATA-SET**"
      ]
    },
    {
      "cell_type": "code",
      "metadata": {
        "id": "ok46cPdajtWM"
      },
      "source": [
        "Y_pred = model.predict(X_test)"
      ],
      "execution_count": 20,
      "outputs": []
    },
    {
      "cell_type": "code",
      "metadata": {
        "id": "tvt8ACAZfoSO"
      },
      "source": [
        "Y_test = Y_test/scaler_test.scale_[0]\n",
        "Y_pred = Y_pred/scaler_test.scale_[0]"
      ],
      "execution_count": 21,
      "outputs": []
    },
    {
      "cell_type": "code",
      "metadata": {
        "colab": {
          "base_uri": "https://localhost:8080/",
          "height": 350
        },
        "id": "EuRHO6kZfVYh",
        "outputId": "96d4a6cd-5ca4-4562-b1eb-859de7f9fc4d"
      },
      "source": [
        "plt.figure(figsize=(14,5))\n",
        "plt.plot(Y_test, label='Real Stock Price')\n",
        "plt.plot(Y_pred, label='Actual Stock Price')\n",
        "plt.title('Infosys Stock Price Prediction')\n",
        "plt.xlabel('Time')\n",
        "plt.ylabel('Price')\n",
        "plt.legend(bbox_to_anchor=(1.05, 1), loc='upper left')\n",
        "plt.show()"
      ],
      "execution_count": 22,
      "outputs": [
        {
          "output_type": "display_data",
          "data": {
            "image/png": "[encoded data removed]",
            "text/plain": [
              "<Figure size 1008x360 with 1 Axes>"
            ]
          },
          "metadata": {
            "tags": [],
            "needs_background": "light"
          }
        }
      ]
    }
  ]
}