{
 "cells": [
  {
   "cell_type": "code",
   "execution_count": 27,
   "metadata": {},
   "outputs": [],
   "source": [
    "import numpy as np\n",
    "import pandas as pd\n",
    "import yfinance as yf\n",
    "from datetime import date\n",
    "import matplotlib.pyplot as plt\n",
    "from scipy.stats import ttest_ind\n",
    "import matplotlib.dates as mpl_dates"
   ]
  },
  {
   "cell_type": "code",
   "execution_count": 28,
   "metadata": {},
   "outputs": [
    {
     "name": "stdout",
     "output_type": "stream",
     "text": [
      "Enter Ticker Symbol --> AAPL\n",
      "Enter Time Interval(valid intervals :- 1h, 1d, 5d, 1wk, 1mo, 3mo) --> 1D\n"
     ]
    }
   ],
   "source": [
    "ticker = input('Enter Ticker Symbol --> ')\n",
    "interval_time = input('Enter Time Interval(valid intervals :- 1h, 1d, 5d, 1wk, 1mo, 3mo) --> ')"
   ]
  },
  {
   "cell_type": "code",
   "execution_count": 29,
   "metadata": {},
   "outputs": [],
   "source": [
    "start_time = '2021-01-04'\n",
    "today = date.today()\n",
    "end_time = today.strftime(\"%Y-%m-%d\")"
   ]
  },
  {
   "cell_type": "code",
   "execution_count": 30,
   "metadata": {},
   "outputs": [
    {
     "name": "stdout",
     "output_type": "stream",
     "text": [
      "[*********************100%***********************]  1 of 1 completed\n"
     ]
    },
    {
     "data": {
      "text/html": [
       "<div>\n",
       "<style scoped>\n",
       "    .dataframe tbody tr th:only-of-type {\n",
       "        vertical-align: middle;\n",
       "    }\n",
       "\n",
       "    .dataframe tbody tr th {\n",
       "        vertical-align: top;\n",
       "    }\n",
       "\n",
       "    .dataframe thead th {\n",
       "        text-align: right;\n",
       "    }\n",
       "</style>\n",
       "<table border=\"1\" class=\"dataframe\">\n",
       "  <thead>\n",
       "    <tr style=\"text-align: right;\">\n",
       "      <th></th>\n",
       "      <th>Open</th>\n",
       "      <th>High</th>\n",
       "      <th>Low</th>\n",
       "      <th>Close</th>\n",
       "      <th>Adj Close</th>\n",
       "      <th>Volume</th>\n",
       "    </tr>\n",
       "    <tr>\n",
       "      <th>Date</th>\n",
       "      <th></th>\n",
       "      <th></th>\n",
       "      <th></th>\n",
       "      <th></th>\n",
       "      <th></th>\n",
       "      <th></th>\n",
       "    </tr>\n",
       "  </thead>\n",
       "  <tbody>\n",
       "    <tr>\n",
       "      <th>2021-01-04</th>\n",
       "      <td>133.520004</td>\n",
       "      <td>133.610001</td>\n",
       "      <td>126.760002</td>\n",
       "      <td>129.410004</td>\n",
       "      <td>128.997803</td>\n",
       "      <td>143301900</td>\n",
       "    </tr>\n",
       "    <tr>\n",
       "      <th>2021-01-05</th>\n",
       "      <td>128.889999</td>\n",
       "      <td>131.740005</td>\n",
       "      <td>128.429993</td>\n",
       "      <td>131.009995</td>\n",
       "      <td>130.592697</td>\n",
       "      <td>97664900</td>\n",
       "    </tr>\n",
       "    <tr>\n",
       "      <th>2021-01-06</th>\n",
       "      <td>127.720001</td>\n",
       "      <td>131.050003</td>\n",
       "      <td>126.379997</td>\n",
       "      <td>126.599998</td>\n",
       "      <td>126.196747</td>\n",
       "      <td>155088000</td>\n",
       "    </tr>\n",
       "    <tr>\n",
       "      <th>2021-01-07</th>\n",
       "      <td>128.360001</td>\n",
       "      <td>131.630005</td>\n",
       "      <td>127.860001</td>\n",
       "      <td>130.919998</td>\n",
       "      <td>130.502991</td>\n",
       "      <td>109578200</td>\n",
       "    </tr>\n",
       "    <tr>\n",
       "      <th>2021-01-08</th>\n",
       "      <td>132.429993</td>\n",
       "      <td>132.630005</td>\n",
       "      <td>130.229996</td>\n",
       "      <td>132.050003</td>\n",
       "      <td>131.629379</td>\n",
       "      <td>105158200</td>\n",
       "    </tr>\n",
       "  </tbody>\n",
       "</table>\n",
       "</div>"
      ],
      "text/plain": [
       "                  Open        High         Low       Close   Adj Close  \\\n",
       "Date                                                                     \n",
       "2021-01-04  133.520004  133.610001  126.760002  129.410004  128.997803   \n",
       "2021-01-05  128.889999  131.740005  128.429993  131.009995  130.592697   \n",
       "2021-01-06  127.720001  131.050003  126.379997  126.599998  126.196747   \n",
       "2021-01-07  128.360001  131.630005  127.860001  130.919998  130.502991   \n",
       "2021-01-08  132.429993  132.630005  130.229996  132.050003  131.629379   \n",
       "\n",
       "               Volume  \n",
       "Date                   \n",
       "2021-01-04  143301900  \n",
       "2021-01-05   97664900  \n",
       "2021-01-06  155088000  \n",
       "2021-01-07  109578200  \n",
       "2021-01-08  105158200  "
      ]
     },
     "execution_count": 30,
     "metadata": {},
     "output_type": "execute_result"
    }
   ],
   "source": [
    "data = pd.DataFrame()\n",
    "data = yf.download(ticker, start = start_time, end = end_time, interval = interval_time)\n",
    "\n",
    "data.head()"
   ]
  },
  {
   "cell_type": "code",
   "execution_count": 31,
   "metadata": {},
   "outputs": [
    {
     "name": "stdout",
     "output_type": "stream",
     "text": [
      "For how many days are you going to keep the stock? 1\n"
     ]
    }
   ],
   "source": [
    "no_of_business_days = int(input('For how many days are you going to keep the stock? '))"
   ]
  },
  {
   "cell_type": "code",
   "execution_count": 32,
   "metadata": {},
   "outputs": [],
   "source": [
    "result = []\n",
    "train_size = 0.6"
   ]
  },
  {
   "cell_type": "code",
   "execution_count": 33,
   "metadata": {},
   "outputs": [],
   "source": [
    "data['Forward Close'] = data['Close'].shift(-no_of_business_days)\n",
    "data['Forward Return'] = (data['Forward Close'] - data['Close'])/data['Close']"
   ]
  },
  {
   "cell_type": "code",
   "execution_count": 34,
   "metadata": {},
   "outputs": [],
   "source": [
    "for sma_length in range(20, 200):\n",
    "    data['SMA'] = data['Close'].rolling(sma_length).mean()\n",
    "    data['Signal'] = [int(x) for x in data['Close'] > data['SMA']]\n",
    "    \n",
    "    df = data.dropna()\n",
    "    \n",
    "    train_data = df.head(int(train_size*df.shape[0]))\n",
    "    test_data = df.tail(int((1 - train_size)*df.shape[0]))\n",
    "    \n",
    "    train_returns = train_data[train_data['Signal'] == 1]['Forward Return'] \n",
    "    test_returns = test_data[test_data['Signal'] == 1]['Forward Return'] \n",
    "    \n",
    "    mean_train_returns = train_returns.mean()\n",
    "    mean_test_returns = test_returns.mean()\n",
    "    \n",
    "    pvalue = ttest_ind(train_returns,test_returns,equal_var=False)[1]\n",
    "    \n",
    "    result.append({\n",
    "      'sma_length':sma_length,\n",
    "      'training_forward_return': mean_train_returns,\n",
    "      'test_forward_return': mean_test_returns,\n",
    "      'p_value':pvalue\n",
    "  })\n",
    "    "
   ]
  },
  {
   "cell_type": "code",
   "execution_count": 35,
   "metadata": {},
   "outputs": [],
   "source": [
    "result.sort(key = lambda x : -x['training_forward_return'])"
   ]
  },
  {
   "cell_type": "code",
   "execution_count": 36,
   "metadata": {},
   "outputs": [],
   "source": [
    "sma_length = result[0]['sma_length']\n",
    "p_value = result[0]['p_value']*100"
   ]
  },
  {
   "cell_type": "code",
   "execution_count": 37,
   "metadata": {},
   "outputs": [],
   "source": [
    "def plot_graphs(df):\n",
    "    plt.style.use('ggplot')\n",
    "    \n",
    "    fig, ax = plt.subplots()\n",
    "    plt.plot(df['Close'], label=\"Close\")\n",
    "    plt.plot(df['SMA'], label=\"Simple Moving Average\")\n",
    "    ax.xaxis_date()\n",
    "    ax.set_xlabel('Date')\n",
    "    ax.set_ylabel('Price')\n",
    "    ax.set_title('Visualization of Moving Avegage and Closing Price')\n",
    "    myFmt = mpl_dates.DateFormatter('%y-%m-%d')\n",
    "    ax.xaxis.set_major_formatter(myFmt)\n",
    "    fig.autofmt_xdate()\n",
    "    plt.legend(loc=2, bbox_to_anchor=(1.05, 1)) \n",
    "    \n",
    "    plt.show()"
   ]
  },
  {
   "cell_type": "code",
   "execution_count": 38,
   "metadata": {},
   "outputs": [
    {
     "name": "stdout",
     "output_type": "stream",
     "text": [
      "Best Time Period for Moving Average is =  30 \n",
      "\n"
     ]
    },
    {
     "data": {
      "image/png": "[encoded data removed]",
      "text/plain": [
       "<Figure size 432x288 with 1 Axes>"
      ]
     },
     "metadata": {},
     "output_type": "display_data"
    }
   ],
   "source": [
    "if p_value < 5:\n",
    "    print('Calculated SMA Length can not be used in the real world')\n",
    "else:\n",
    "    print('Best Time Period for Moving Average is = ', sma_length, '\\n')\n",
    "    data['SMA'] = data['Close'].rolling(sma_length).mean()\n",
    "    plot_graphs(df)"
   ]
  },
  {
   "cell_type": "code",
   "execution_count": null,
   "metadata": {},
   "outputs": [],
   "source": []
  }
 ],
 "metadata": {
  "kernelspec": {
   "display_name": "Python 3",
   "language": "python",
   "name": "python3"
  },
  "language_info": {
   "codemirror_mode": {
    "name": "ipython",
    "version": 3
   },
   "file_extension": ".py",
   "mimetype": "text/x-python",
   "name": "python",
   "nbconvert_exporter": "python",
   "pygments_lexer": "ipython3",
   "version": "3.8.5"
  }
 },
 "nbformat": 4,
 "nbformat_minor": 4
}
