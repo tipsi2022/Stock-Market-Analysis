{
 "cells": [
  {
   "cell_type": "code",
   "execution_count": 9,
   "metadata": {},
   "outputs": [],
   "source": [
    "import numpy as np\n",
    "import pandas as pd\n",
    "import yfinance as yf\n",
    "import matplotlib.pyplot as plt\n",
    "from scipy.stats import ttest_ind\n",
    "import matplotlib.dates as mpl_dates"
   ]
  },
  {
   "cell_type": "code",
   "execution_count": 10,
   "metadata": {},
   "outputs": [
    {
     "name": "stdout",
     "output_type": "stream",
     "text": [
      "Enter Ticker Symbol --> AAPL\n",
      "Enter Time Interval(valid intervals :- 1h, 1d, 5d, 1wk, 1mo, 3mo) --> 1d\n"
     ]
    }
   ],
   "source": [
    "ticker = input('Enter Ticker Symbol --> ')\n",
    "interval_time = input('Enter Time Interval(valid intervals :- 1h, 1d, 5d, 1wk, 1mo, 3mo) --> ')"
   ]
  },
  {
   "cell_type": "code",
   "execution_count": 11,
   "metadata": {},
   "outputs": [],
   "source": [
    "start_time = '2011-01-01'\n",
    "end_time = '2021-01-01'"
   ]
  },
  {
   "cell_type": "code",
   "execution_count": 12,
   "metadata": {},
   "outputs": [
    {
     "name": "stdout",
     "output_type": "stream",
     "text": [
      "[*********************100%***********************]  1 of 1 completed\n"
     ]
    },
    {
     "data": {
      "text/html": [
       "<div>\n",
       "<style scoped>\n",
       "    .dataframe tbody tr th:only-of-type {\n",
       "        vertical-align: middle;\n",
       "    }\n",
       "\n",
       "    .dataframe tbody tr th {\n",
       "        vertical-align: top;\n",
       "    }\n",
       "\n",
       "    .dataframe thead th {\n",
       "        text-align: right;\n",
       "    }\n",
       "</style>\n",
       "<table border=\"1\" class=\"dataframe\">\n",
       "  <thead>\n",
       "    <tr style=\"text-align: right;\">\n",
       "      <th></th>\n",
       "      <th>Open</th>\n",
       "      <th>High</th>\n",
       "      <th>Low</th>\n",
       "      <th>Close</th>\n",
       "      <th>Adj Close</th>\n",
       "      <th>Volume</th>\n",
       "    </tr>\n",
       "    <tr>\n",
       "      <th>Date</th>\n",
       "      <th></th>\n",
       "      <th></th>\n",
       "      <th></th>\n",
       "      <th></th>\n",
       "      <th></th>\n",
       "      <th></th>\n",
       "    </tr>\n",
       "  </thead>\n",
       "  <tbody>\n",
       "    <tr>\n",
       "      <th>2010-12-31</th>\n",
       "      <td>11.533929</td>\n",
       "      <td>11.552857</td>\n",
       "      <td>11.475357</td>\n",
       "      <td>11.520000</td>\n",
       "      <td>9.906079</td>\n",
       "      <td>193508000</td>\n",
       "    </tr>\n",
       "    <tr>\n",
       "      <th>2011-01-03</th>\n",
       "      <td>11.630000</td>\n",
       "      <td>11.795000</td>\n",
       "      <td>11.601429</td>\n",
       "      <td>11.770357</td>\n",
       "      <td>10.121364</td>\n",
       "      <td>445138400</td>\n",
       "    </tr>\n",
       "    <tr>\n",
       "      <th>2011-01-04</th>\n",
       "      <td>11.872857</td>\n",
       "      <td>11.875000</td>\n",
       "      <td>11.719643</td>\n",
       "      <td>11.831786</td>\n",
       "      <td>10.174186</td>\n",
       "      <td>309080800</td>\n",
       "    </tr>\n",
       "    <tr>\n",
       "      <th>2011-01-05</th>\n",
       "      <td>11.769643</td>\n",
       "      <td>11.940714</td>\n",
       "      <td>11.767857</td>\n",
       "      <td>11.928571</td>\n",
       "      <td>10.257413</td>\n",
       "      <td>255519600</td>\n",
       "    </tr>\n",
       "    <tr>\n",
       "      <th>2011-01-06</th>\n",
       "      <td>11.954286</td>\n",
       "      <td>11.973214</td>\n",
       "      <td>11.889286</td>\n",
       "      <td>11.918929</td>\n",
       "      <td>10.249121</td>\n",
       "      <td>300428800</td>\n",
       "    </tr>\n",
       "  </tbody>\n",
       "</table>\n",
       "</div>"
      ],
      "text/plain": [
       "                 Open       High        Low      Close  Adj Close     Volume\n",
       "Date                                                                        \n",
       "2010-12-31  11.533929  11.552857  11.475357  11.520000   9.906079  193508000\n",
       "2011-01-03  11.630000  11.795000  11.601429  11.770357  10.121364  445138400\n",
       "2011-01-04  11.872857  11.875000  11.719643  11.831786  10.174186  309080800\n",
       "2011-01-05  11.769643  11.940714  11.767857  11.928571  10.257413  255519600\n",
       "2011-01-06  11.954286  11.973214  11.889286  11.918929  10.249121  300428800"
      ]
     },
     "execution_count": 12,
     "metadata": {},
     "output_type": "execute_result"
    }
   ],
   "source": [
    "data = pd.DataFrame()\n",
    "data = yf.download(ticker, start = start_time, end = end_time, interval = interval_time)\n",
    "\n",
    "data.head()"
   ]
  },
  {
   "cell_type": "code",
   "execution_count": 13,
   "metadata": {},
   "outputs": [
    {
     "name": "stdout",
     "output_type": "stream",
     "text": [
      "For how many days are you going to keep the stock? 2\n"
     ]
    }
   ],
   "source": [
    "no_of_business_days = int(input('For how many days are you going to keep the stock? '))"
   ]
  },
  {
   "cell_type": "code",
   "execution_count": 14,
   "metadata": {},
   "outputs": [],
   "source": [
    "result = []\n",
    "train_size = 0.6"
   ]
  },
  {
   "cell_type": "code",
   "execution_count": 15,
   "metadata": {},
   "outputs": [],
   "source": [
    "data['Forward Close'] = data['Close'].shift(-no_of_business_days)\n",
    "data['Forward Return'] = (data['Forward Close'] - data['Close'])/data['Close']"
   ]
  },
  {
   "cell_type": "code",
   "execution_count": 16,
   "metadata": {},
   "outputs": [],
   "source": [
    "for sma_length in range(20, 500):\n",
    "    data['SMA'] = data['Close'].rolling(sma_length).mean()\n",
    "    data['Signal'] = [int(x) for x in data['Close'] > data['SMA']]\n",
    "    \n",
    "    df = data.dropna()\n",
    "    \n",
    "    train_data = df.head(int(train_size*df.shape[0]))\n",
    "    test_data = df.tail(int((1 - train_size)*df.shape[0]))\n",
    "    \n",
    "    train_returns = train_data[train_data['Signal'] == 1]['Forward Return'] \n",
    "    test_returns = test_data[test_data['Signal'] == 1]['Forward Return'] \n",
    "    \n",
    "    mean_train_returns = train_returns.mean()\n",
    "    mean_test_returns = test_returns.mean()\n",
    "    \n",
    "    pvalue = ttest_ind(train_returns,test_returns,equal_var=False)[1]\n",
    "    \n",
    "    result.append({\n",
    "      'sma_length':sma_length,\n",
    "      'training_forward_return': mean_train_returns,\n",
    "      'test_forward_return': mean_test_returns,\n",
    "      'p_value':pvalue\n",
    "  })\n",
    "    "
   ]
  },
  {
   "cell_type": "code",
   "execution_count": 17,
   "metadata": {},
   "outputs": [],
   "source": [
    "result.sort(key = lambda x : -x['training_forward_return'])"
   ]
  },
  {
   "cell_type": "code",
   "execution_count": 18,
   "metadata": {},
   "outputs": [],
   "source": [
    "sma_length = result[0]['sma_length']\n",
    "p_value = result[0]['p_value']*100"
   ]
  },
  {
   "cell_type": "code",
   "execution_count": 19,
   "metadata": {},
   "outputs": [],
   "source": [
    "def plot_graphs(df):\n",
    "    plt.style.use('ggplot')\n",
    "    \n",
    "    fig, ax = plt.subplots()\n",
    "    plt.plot(df['Close'], label=\"Close\")\n",
    "    plt.plot(df['SMA'], label=\"Simple Moving Average\")\n",
    "    ax.xaxis_date()\n",
    "    ax.set_xlabel('Date')\n",
    "    ax.set_ylabel('Price')\n",
    "    ax.set_title('Visualization of Moving Avegage and Closing Price')\n",
    "    myFmt = mpl_dates.DateFormatter('%y-%m-%d')\n",
    "    ax.xaxis.set_major_formatter(myFmt)\n",
    "    fig.autofmt_xdate()\n",
    "    plt.legend(loc=2, bbox_to_anchor=(1.05, 1)) \n",
    "    \n",
    "    plt.show()"
   ]
  },
  {
   "cell_type": "code",
   "execution_count": 20,
   "metadata": {},
   "outputs": [
    {
     "name": "stdout",
     "output_type": "stream",
     "text": [
      "Best Time Period for Moving Average is =  161 \n",
      "\n"
     ]
    },
    {
     "data": {
      "image/png": "[encoded data removed]",
      "text/plain": [
       "<Figure size 432x288 with 1 Axes>"
      ]
     },
     "metadata": {},
     "output_type": "display_data"
    }
   ],
   "source": [
    "if p_value < 5:\n",
    "    print('Calculated SMA Length can not be used in the real world')\n",
    "else:\n",
    "    print('Best Time Period for Moving Average is = ', sma_length, '\\n')\n",
    "    data['SMA'] = data['Close'].rolling(sma_length).mean()\n",
    "    plot_graphs(df)"
   ]
  }
 ],
 "metadata": {
  "kernelspec": {
   "display_name": "Python 3",
   "language": "python",
   "name": "python3"
  },
  "language_info": {
   "codemirror_mode": {
    "name": "ipython",
    "version": 3
   },
   "file_extension": ".py",
   "mimetype": "text/x-python",
   "name": "python",
   "nbconvert_exporter": "python",
   "pygments_lexer": "ipython3",
   "version": "3.8.5"
  }
 },
 "nbformat": 4,
 "nbformat_minor": 4
}
