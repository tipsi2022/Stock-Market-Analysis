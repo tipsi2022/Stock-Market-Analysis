{
 "cells": [
  {
   "cell_type": "code",
   "execution_count": 74,
   "metadata": {
    "executionInfo": {
     "elapsed": 56,
     "status": "ok",
     "timestamp": 1621853651026,
     "user": {
      "displayName": "Tipsi Jadav",
      "photoUrl": "",
      "userId": "15573704357476852511"
     },
     "user_tz": -330
    },
    "id": "S1t3dThG_puG"
   },
   "outputs": [],
   "source": [
    "import talib as ta\n",
    "import numpy as np\n",
    "import pandas as pd\n",
    "import yfinance as yf\n",
    "from talib import abstract\n",
    "import matplotlib.pyplot as plt\n",
    "import matplotlib.dates as mpl_dates\n",
    "from mplfinance.original_flavor import candlestick_ohlc"
   ]
  },
  {
   "cell_type": "code",
   "execution_count": 75,
   "metadata": {
    "id": "_y1U1bM4kRy0"
   },
   "outputs": [
    {
     "name": "stdout",
     "output_type": "stream",
     "text": [
      "Enter Ticker Symbol --> AMZN\n",
      "Enter Start Time(in yyyy-mm-dd) --> 2020-05-01\n",
      "Enter End Time(in yyyy-mm-dd) --> 2021-06-01\n",
      "Enter interval Time(valid intervals :- 1h,1d,5d,1wk,1mo,3mo) --> 1D\n"
     ]
    }
   ],
   "source": [
    "ticker = input('Enter Ticker Symbol --> ')\n",
    "start_time = input('Enter Start Time(in yyyy-mm-dd) --> ')\n",
    "end_time = input('Enter End Time(in yyyy-mm-dd) --> ')\n",
    "interval_time = input('Enter interval Time(valid intervals :- 1h,1d,5d,1wk,1mo,3mo) --> ')"
   ]
  },
  {
   "cell_type": "code",
   "execution_count": 76,
   "metadata": {
    "id": "tVzFEBpN_p4W"
   },
   "outputs": [
    {
     "name": "stdout",
     "output_type": "stream",
     "text": [
      "[*********************100%***********************]  1 of 1 completed\n"
     ]
    },
    {
     "data": {
      "text/html": [
       "<div>\n",
       "<style scoped>\n",
       "    .dataframe tbody tr th:only-of-type {\n",
       "        vertical-align: middle;\n",
       "    }\n",
       "\n",
       "    .dataframe tbody tr th {\n",
       "        vertical-align: top;\n",
       "    }\n",
       "\n",
       "    .dataframe thead th {\n",
       "        text-align: right;\n",
       "    }\n",
       "</style>\n",
       "<table border=\"1\" class=\"dataframe\">\n",
       "  <thead>\n",
       "    <tr style=\"text-align: right;\">\n",
       "      <th></th>\n",
       "      <th>open</th>\n",
       "      <th>high</th>\n",
       "      <th>low</th>\n",
       "      <th>Close</th>\n",
       "      <th>close</th>\n",
       "      <th>volume</th>\n",
       "    </tr>\n",
       "    <tr>\n",
       "      <th>Date</th>\n",
       "      <th></th>\n",
       "      <th></th>\n",
       "      <th></th>\n",
       "      <th></th>\n",
       "      <th></th>\n",
       "      <th></th>\n",
       "    </tr>\n",
       "  </thead>\n",
       "  <tbody>\n",
       "    <tr>\n",
       "      <th>2020-04-30</th>\n",
       "      <td>2419.840088</td>\n",
       "      <td>2475.000000</td>\n",
       "      <td>2396.010010</td>\n",
       "      <td>2474.000000</td>\n",
       "      <td>2474.000000</td>\n",
       "      <td>9534600</td>\n",
       "    </tr>\n",
       "    <tr>\n",
       "      <th>2020-05-01</th>\n",
       "      <td>2336.800049</td>\n",
       "      <td>2362.439941</td>\n",
       "      <td>2258.189941</td>\n",
       "      <td>2286.040039</td>\n",
       "      <td>2286.040039</td>\n",
       "      <td>9772600</td>\n",
       "    </tr>\n",
       "    <tr>\n",
       "      <th>2020-05-04</th>\n",
       "      <td>2256.379883</td>\n",
       "      <td>2326.979980</td>\n",
       "      <td>2256.379883</td>\n",
       "      <td>2315.989990</td>\n",
       "      <td>2315.989990</td>\n",
       "      <td>4865900</td>\n",
       "    </tr>\n",
       "    <tr>\n",
       "      <th>2020-05-05</th>\n",
       "      <td>2340.000000</td>\n",
       "      <td>2351.000000</td>\n",
       "      <td>2307.129883</td>\n",
       "      <td>2317.800049</td>\n",
       "      <td>2317.800049</td>\n",
       "      <td>3242500</td>\n",
       "    </tr>\n",
       "    <tr>\n",
       "      <th>2020-05-06</th>\n",
       "      <td>2329.439941</td>\n",
       "      <td>2357.449951</td>\n",
       "      <td>2320.000000</td>\n",
       "      <td>2351.260010</td>\n",
       "      <td>2351.260010</td>\n",
       "      <td>3117800</td>\n",
       "    </tr>\n",
       "  </tbody>\n",
       "</table>\n",
       "</div>"
      ],
      "text/plain": [
       "                   open         high          low        Close        close  \\\n",
       "Date                                                                          \n",
       "2020-04-30  2419.840088  2475.000000  2396.010010  2474.000000  2474.000000   \n",
       "2020-05-01  2336.800049  2362.439941  2258.189941  2286.040039  2286.040039   \n",
       "2020-05-04  2256.379883  2326.979980  2256.379883  2315.989990  2315.989990   \n",
       "2020-05-05  2340.000000  2351.000000  2307.129883  2317.800049  2317.800049   \n",
       "2020-05-06  2329.439941  2357.449951  2320.000000  2351.260010  2351.260010   \n",
       "\n",
       "             volume  \n",
       "Date                 \n",
       "2020-04-30  9534600  \n",
       "2020-05-01  9772600  \n",
       "2020-05-04  4865900  \n",
       "2020-05-05  3242500  \n",
       "2020-05-06  3117800  "
      ]
     },
     "execution_count": 76,
     "metadata": {},
     "output_type": "execute_result"
    }
   ],
   "source": [
    "df = pd.DataFrame()\n",
    "df = yf.download(ticker, start = start_time, end = end_time, interval = interval_time)\n",
    "df =  df.rename(columns={'Open': 'open', 'High': 'high', 'Low': 'low', 'Adj Close': 'close', 'Volume': 'volume'})\n",
    "\n",
    "df.head()"
   ]
  },
  {
   "cell_type": "code",
   "execution_count": 77,
   "metadata": {
    "id": "ZLj7O4d9tQzw"
   },
   "outputs": [],
   "source": [
    "def SMA_fun(df, sma_int, lma_int):   \n",
    "    df['SMA'] = abstract.SMA(df, sma_int)\n",
    "    df['LMA'] = abstract.SMA(df, lma_int)\n",
    "\n",
    "    return(df)"
   ]
  },
  {
   "cell_type": "code",
   "execution_count": 78,
   "metadata": {
    "id": "TH6jvz0btQ-i"
   },
   "outputs": [],
   "source": [
    "def EMA_fun(df, sma_int, lma_int):\n",
    "    df['SMA'] = abstract.EMA(df, sma_int)\n",
    "    df['LMA'] = abstract.EMA(df, lma_int)\n",
    "\n",
    "    return(df)"
   ]
  },
  {
   "cell_type": "code",
   "execution_count": 79,
   "metadata": {
    "id": "5o-Ki0GAtRIc"
   },
   "outputs": [],
   "source": [
    "def WMA_fun(df, sma_int, lma_int):\n",
    "    df['SMA'] = abstract.WMA(df, sma_int)\n",
    "    df['LMA'] = abstract.WMA(df, lma_int)\n",
    "\n",
    "    return(df)"
   ]
  },
  {
   "cell_type": "code",
   "execution_count": 80,
   "metadata": {
    "id": "bk_ukCYQtRRz"
   },
   "outputs": [],
   "source": [
    "def DEMA_fun(df, sma_int, lma_int):\n",
    "    df['SMA'] = abstract.DEMA(df, sma_int)\n",
    "    df['LMA'] = abstract.DEMA(df, lma_int)\n",
    "\n",
    "    return(df)"
   ]
  },
  {
   "cell_type": "code",
   "execution_count": 81,
   "metadata": {
    "id": "PqLQPYXutRZo"
   },
   "outputs": [],
   "source": [
    "def TEMA_fun(df, sma_int, lma_int):\n",
    "    df['SMA'] = abstract.TEMA(df, sma_int)\n",
    "    df['LMA'] = abstract.TEMA(df, lma_int)\n",
    "\n",
    "    return(df)"
   ]
  },
  {
   "cell_type": "code",
   "execution_count": 82,
   "metadata": {
    "id": "jJGLLhiUtrmO"
   },
   "outputs": [],
   "source": [
    "def RSI_fun(df):\n",
    "    df['MI'] = abstract.RSI(df, 14)\n",
    "\n",
    "    return(df)"
   ]
  },
  {
   "cell_type": "code",
   "execution_count": 83,
   "metadata": {},
   "outputs": [],
   "source": [
    "def MACD_fun(df):\n",
    "    temp = abstract.MACD(df, fastperiod=12, slowperiod=26)\n",
    "    \n",
    "    df['MI'] = temp['macd']\n",
    "    df['signal_line'] = temp['macdsignal']\n",
    "    \n",
    "    return(df)"
   ]
  },
  {
   "cell_type": "code",
   "execution_count": 84,
   "metadata": {},
   "outputs": [],
   "source": [
    "def ADX_fun(df):\n",
    "    df['MI'] = abstract.ADX(df, 14)\n",
    "\n",
    "    return(df)"
   ]
  },
  {
   "cell_type": "code",
   "execution_count": 85,
   "metadata": {},
   "outputs": [],
   "source": [
    "def SO_fun(df):\n",
    "    temp = abstract.STOCHF(df, fastk_period=14)\n",
    "\n",
    "    df['MI'] = temp['fastk']\n",
    "    \n",
    "    return(df)"
   ]
  },
  {
   "cell_type": "code",
   "execution_count": 86,
   "metadata": {},
   "outputs": [],
   "source": [
    "def WR_fun(df):\n",
    "    df['MI'] = abstract.WILLR(df, 14)\n",
    "\n",
    "    return(df)"
   ]
  },
  {
   "cell_type": "code",
   "execution_count": 87,
   "metadata": {
    "id": "Iy35RfhP_qD-"
   },
   "outputs": [],
   "source": [
    "def strategy(df, lma_int, ind2, stop_loss, stop_profit):\n",
    "    \n",
    "    a = df.shape[0]  \n",
    "    \n",
    "    temp = df.loc[:, ['SMA', 'LMA', 'MI']].copy()\n",
    "    Signal =  np.zeros(a)\n",
    "    \n",
    "    if ind2 == 'RSI':\n",
    "        temp['MI_back'] = temp['MI'].shift(5)\n",
    "        \n",
    "        i = 0\n",
    "        for index,row in temp.iterrows():\n",
    "            if row['SMA'] > row['LMA']:\n",
    "                if row['MI'] > 40 and row['MI_back'] < 40:\n",
    "                    Signal[i] = 1\n",
    "                i += 1\n",
    "            else:\n",
    "                if row['MI'] < 60 and row['MI_back'] > 60:\n",
    "                    Signal[i] = -1\n",
    "                i += 1\n",
    "    elif ind2 == 'MACD':\n",
    "        temp['diff_ms'] = temp['MI'] - df['signal_line']\n",
    "     \n",
    "        i = 0\n",
    "        for index,row in temp.iterrows():\n",
    "            if row['SMA'] > row['LMA']:\n",
    "                if row['diff_ms'] > 0:\n",
    "                    Signal[i] = 1\n",
    "                i += 1\n",
    "            else:\n",
    "                if row['diff_ms'] < 0:\n",
    "                    Signal[i] = -1\n",
    "                i += 1\n",
    "    elif ind2 == 'ADX':\n",
    "        temp['DI+'] = abstract.PLUS_DI(df, 14)\n",
    "        temp['DI-'] = abstract.MINUS_DI(df, 14)\n",
    "        \n",
    "        i = 0\n",
    "        for index,row in temp.iterrows():\n",
    "            if row['SMA'] > row['LMA']:\n",
    "                if (row['DI+'] > row['DI-']) and row['MI'] > 21:\n",
    "                    Signal[i] = 1\n",
    "                i += 1\n",
    "            else:\n",
    "                if (row['DI+'] < row['DI-']) and row['MI'] > 21:\n",
    "                    Signal[i] = -1\n",
    "                i += 1\n",
    "    elif ind2 == 'SO':\n",
    "        temp['MI_back'] = temp['MI'].shift(5)\n",
    "        \n",
    "        i = 0\n",
    "        for index,row in temp.iterrows():\n",
    "            if row['SMA'] > row['LMA']:\n",
    "                if row['MI'] > 20 and row['MI_back'] < 20:\n",
    "                    Signal[i] = 1\n",
    "                i += 1\n",
    "            else:\n",
    "                if row['MI'] < 80 and row['MI_back'] > 80:\n",
    "                    Signal[i] = -1\n",
    "                i += 1\n",
    "    else:\n",
    "        temp['MI_back'] = temp['MI'].shift(5)\n",
    "        \n",
    "        i = 0\n",
    "        for index,row in temp.iterrows():\n",
    "            if row['SMA'] > row['LMA']:\n",
    "                if row['MI'] < -80 and row['MI_back'] > -80:\n",
    "                    Signal[i] = 1\n",
    "                i += 1\n",
    "            else:\n",
    "                if row['MI'] > -20 and row['MI_back'] < -20:\n",
    "                    Signal[i] = -1\n",
    "                i += 1\n",
    "\n",
    "    df['signal'] = Signal\n",
    "        \n",
    "    Order = np.zeros(a)\n",
    "  \n",
    "    prev_inv = 0\n",
    "    prev_sig = 0\n",
    "    i = 0\n",
    "    for index,row in df.iterrows():\n",
    "        if row['signal'] == 1 and prev_sig != 1:\n",
    "            prev_sig = 1\n",
    "            \n",
    "            prev_inv = row['open']\n",
    "            \n",
    "            Order[i] = prev_sig\n",
    "\n",
    "            i += 1\n",
    "        elif row['signal'] == -1 and prev_sig != -1:\n",
    "            prev_sig = -1\n",
    "\n",
    "            Order[i] = prev_sig\n",
    "\n",
    "            i += 1\n",
    "        else:\n",
    "            if prev_inv != 0:\n",
    "                pl = ((row['open'] - prev_inv)/prev_inv)*100\n",
    "            \n",
    "                if pl > stop_profit and prev_sig == 1:\n",
    "                    prev_signal = -1\n",
    "                \n",
    "                    Order[i] = prev_sig\n",
    "                elif pl < stop_loss and prev_sig == 1:\n",
    "                    prev_signal = -1\n",
    "                \n",
    "                    Order[i] = prev_sig\n",
    "                \n",
    "            i += 1\n",
    "            \n",
    "        \n",
    "    df['order'] = Order\n",
    "\n",
    "    df = df.iloc[lma_int:].copy()\n",
    "\n",
    "    return(df)"
   ]
  },
  {
   "cell_type": "code",
   "execution_count": 88,
   "metadata": {
    "id": "xTNMvFj6GDEa"
   },
   "outputs": [],
   "source": [
    "def backtesting(df, no_of_contracts, capital):\n",
    "    a = df.shape\n",
    " \n",
    "    Total = np.zeros(a[0])\n",
    "    end_pos = np.zeros(a[0])\n",
    "    invested = np.zeros(a[0])\n",
    "\n",
    "    i = 0 \n",
    "    prev_invest = 0\n",
    "    prev_end = 0\n",
    "    for index, row in df.iterrows():\n",
    "        if row['order'] == 1:\n",
    "            Total[i] = capital - (no_of_contracts*row['open'])\n",
    "            capital = Total[i]\n",
    "\n",
    "            prev_invest = row['open']\n",
    "            invested[i] = prev_invest\n",
    "\n",
    "            prev_end = 1\n",
    "            end_pos[i] = prev_end \n",
    "\n",
    "            i += 1\n",
    "      \n",
    "        elif row['order'] == -1:\n",
    "            Total[i] = capital + (no_of_contracts*row['open'])\n",
    "            capital = Total[i]\n",
    "\n",
    "            prev_invest = 0\n",
    "\n",
    "            prev_end = 0\n",
    "            end_pos[i] = prev_end\n",
    "\n",
    "            i += 1\n",
    "        else:\n",
    "            Total[i] = capital \n",
    "  \n",
    "            invested[i] = prev_invest\n",
    "\n",
    "            end_pos[i] = prev_end\n",
    "    \n",
    "            i += 1\n",
    "\n",
    "    df['total'] = Total\n",
    "    df['holdings'] = df['total'] + (end_pos*no_of_contracts*df['open'])\n",
    "  \n",
    "    Returns = np.zeros(a[0])\n",
    "\n",
    "    i = 0 \n",
    "    prev_return = 0\n",
    "    for index, row in df.iterrows():\n",
    "        if end_pos[i] == 1:\n",
    "            prev_return = ((no_of_contracts*(row['open'] - invested[i]))/invested[i])\n",
    "            Returns[i] = prev_return\n",
    "\n",
    "            i += 1\n",
    "        else:\n",
    "            Returns[i] = prev_return\n",
    "      \n",
    "            i += 1\n",
    "\n",
    "    df['returns'] = Returns \n",
    "\n",
    "    return(df)"
   ]
  },
  {
   "cell_type": "code",
   "execution_count": 89,
   "metadata": {},
   "outputs": [
    {
     "name": "stdout",
     "output_type": "stream",
     "text": [
      "MOVING AVERAGES\n",
      "Simple Moving Average = SMA\n",
      "Exponential Moving Average = EMA\n",
      "Weighted Moving Average = WMA\n",
      "Double Exponential Moving Average = DEMA\n",
      "Triple Exponential Moving Average = TEMA\n",
      "\n",
      "\n",
      "\n",
      "MOMENTUM INDICATORS\n",
      "Relative Strength Index = RSI\n",
      "Moving Average Convergence Divergence = MACD\n",
      "Average Directional Movement Index = ADX\n",
      "Stochastic Oscillator = SO\n",
      "Williams %R = WR\n",
      "\n"
     ]
    }
   ],
   "source": [
    "print('MOVING AVERAGES')\n",
    "print('Simple Moving Average = SMA')\n",
    "print('Exponential Moving Average = EMA')\n",
    "print('Weighted Moving Average = WMA')\n",
    "print('Double Exponential Moving Average = DEMA')\n",
    "print('Triple Exponential Moving Average = TEMA\\n')\n",
    "\n",
    "\n",
    "print('\\n')\n",
    "print('MOMENTUM INDICATORS')\n",
    "print('Relative Strength Index = RSI')\n",
    "print('Moving Average Convergence Divergence = MACD')\n",
    "print('Average Directional Movement Index = ADX')\n",
    "print('Stochastic Oscillator = SO')\n",
    "print('Williams %R = WR\\n')"
   ]
  },
  {
   "cell_type": "code",
   "execution_count": 90,
   "metadata": {
    "id": "V_Znn9pb8Bdk"
   },
   "outputs": [
    {
     "name": "stdout",
     "output_type": "stream",
     "text": [
      "CHOOSE A MOVING AVERAGE --> EMA\n",
      "Enter Short Moving Average Interval --> 3\n",
      "Enter Long Moving Average Interval --> 40\n",
      "CHOOSE MOMENTUM INDICATOR --> ADX\n",
      "\n",
      "\n",
      "Enter number of shares you want to buy --> 3\n",
      "Enter Amount of capital you currently hold --> 1000000000\n",
      "\n",
      "\n",
      "Enter Stop Loss(in %) --> 0.3\n",
      "Enter Stop Profit(in %) --> 5\n"
     ]
    }
   ],
   "source": [
    "ind1 = input('CHOOSE A MOVING AVERAGE --> ')\n",
    "sma_int = int(input('Enter Short Moving Average Interval --> '))\n",
    "lma_int = int(input('Enter Long Moving Average Interval --> '))\n",
    "\n",
    "if ind1 == 'SMA':\n",
    "    df = SMA_fun(df, sma_int, lma_int)\n",
    "elif ind1 == 'EMA':\n",
    "    df = EMA_fun(df, sma_int, lma_int)\n",
    "elif ind1 == 'WMA':\n",
    "    df = WMA_fun(df, sma_int, lma_int)\n",
    "elif ind1 == 'DEMA':\n",
    "    df = DEMA_fun(df, sma_int, lma_int)\n",
    "else:\n",
    "    df = TEMA_fun(df, sma_int, lma_int)\n",
    "\n",
    "ind2 = input('CHOOSE MOMENTUM INDICATOR --> ')\n",
    "\n",
    "if ind2 == 'RSI':\n",
    "    df = RSI_fun(df)\n",
    "elif ind2 == 'MACD':\n",
    "    df = MACD_fun(df)\n",
    "elif ind2 == 'ADX':\n",
    "    df = ADX_fun(df)\n",
    "elif ind2 == 'SO':\n",
    "    df = SO_fun(df)\n",
    "else:\n",
    "    df = WR_fun(df)\n",
    "    \n",
    "print('\\n')\n",
    "no_of_contracts = int(input('Enter number of shares you want to buy --> '))\n",
    "capital = float(input('Enter Amount of capital you currently hold --> '))\n",
    "\n",
    "print('\\n')\n",
    "stop_loss = float(input('Enter Stop Loss(in %) --> '))\n",
    "stop_profit = float(input('Enter Stop Profit(in %) --> '))\n",
    "\n",
    "df = strategy(df, lma_int, ind2, stop_loss, stop_profit)\n",
    "df = backtesting(df, no_of_contracts, capital)"
   ]
  },
  {
   "cell_type": "code",
   "execution_count": 91,
   "metadata": {
    "id": "B5tbG-fBGrqE"
   },
   "outputs": [
    {
     "data": {
      "text/html": [
       "<div>\n",
       "<style scoped>\n",
       "    .dataframe tbody tr th:only-of-type {\n",
       "        vertical-align: middle;\n",
       "    }\n",
       "\n",
       "    .dataframe tbody tr th {\n",
       "        vertical-align: top;\n",
       "    }\n",
       "\n",
       "    .dataframe thead th {\n",
       "        text-align: right;\n",
       "    }\n",
       "</style>\n",
       "<table border=\"1\" class=\"dataframe\">\n",
       "  <thead>\n",
       "    <tr style=\"text-align: right;\">\n",
       "      <th></th>\n",
       "      <th>open</th>\n",
       "      <th>high</th>\n",
       "      <th>low</th>\n",
       "      <th>Close</th>\n",
       "      <th>close</th>\n",
       "      <th>volume</th>\n",
       "      <th>SMA</th>\n",
       "      <th>LMA</th>\n",
       "      <th>MI</th>\n",
       "      <th>signal</th>\n",
       "      <th>order</th>\n",
       "      <th>total</th>\n",
       "      <th>holdings</th>\n",
       "      <th>returns</th>\n",
       "    </tr>\n",
       "    <tr>\n",
       "      <th>Date</th>\n",
       "      <th></th>\n",
       "      <th></th>\n",
       "      <th></th>\n",
       "      <th></th>\n",
       "      <th></th>\n",
       "      <th></th>\n",
       "      <th></th>\n",
       "      <th></th>\n",
       "      <th></th>\n",
       "      <th></th>\n",
       "      <th></th>\n",
       "      <th></th>\n",
       "      <th></th>\n",
       "      <th></th>\n",
       "    </tr>\n",
       "  </thead>\n",
       "  <tbody>\n",
       "    <tr>\n",
       "      <th>2021-05-28</th>\n",
       "      <td>3242.0</td>\n",
       "      <td>3247.98999</td>\n",
       "      <td>3219.699951</td>\n",
       "      <td>3223.070068</td>\n",
       "      <td>3223.070068</td>\n",
       "      <td>2329800</td>\n",
       "      <td>3232.98094</td>\n",
       "      <td>3256.928416</td>\n",
       "      <td>15.182499</td>\n",
       "      <td>0.0</td>\n",
       "      <td>0.0</td>\n",
       "      <td>9.994449e+08</td>\n",
       "      <td>9.994449e+08</td>\n",
       "      <td>0.0</td>\n",
       "    </tr>\n",
       "  </tbody>\n",
       "</table>\n",
       "</div>"
      ],
      "text/plain": [
       "              open        high          low        Close        close  \\\n",
       "Date                                                                    \n",
       "2021-05-28  3242.0  3247.98999  3219.699951  3223.070068  3223.070068   \n",
       "\n",
       "             volume         SMA          LMA         MI  signal  order  \\\n",
       "Date                                                                     \n",
       "2021-05-28  2329800  3232.98094  3256.928416  15.182499     0.0    0.0   \n",
       "\n",
       "                   total      holdings  returns  \n",
       "Date                                             \n",
       "2021-05-28  9.994449e+08  9.994449e+08      0.0  "
      ]
     },
     "execution_count": 91,
     "metadata": {},
     "output_type": "execute_result"
    }
   ],
   "source": [
    "df.tail(1)"
   ]
  },
  {
   "cell_type": "code",
   "execution_count": 92,
   "metadata": {
    "id": "aijO9C1x1T7Q"
   },
   "outputs": [
    {
     "data": {
      "text/plain": [
       "<matplotlib.legend.Legend at 0x273a7985580>"
      ]
     },
     "execution_count": 92,
     "metadata": {},
     "output_type": "execute_result"
    },
    {
     "data": {
      "image/png": "[encoded data removed]",
      "text/plain": [
       "<Figure size 432x288 with 1 Axes>"
      ]
     },
     "metadata": {},
     "output_type": "display_data"
    }
   ],
   "source": [
    "plt.style.use('ggplot')\n",
    "\n",
    "fig, ax = plt.subplots()\n",
    "plt.plot(df['returns'], label=\"Returns\")\n",
    "ax.xaxis_date()\n",
    "ax.set_xlabel('Date')\n",
    "ax.set_ylabel('Returns')\n",
    "ax.set_title('Visualization of CumulatiVe Profit and Loss %')\n",
    "myFmt = mpl_dates.DateFormatter('%y-%m-%d')\n",
    "ax.xaxis.set_major_formatter(myFmt)\n",
    "fig.autofmt_xdate()\n",
    "plt.legend(loc=2, bbox_to_anchor=(1.05, 1)) "
   ]
  },
  {
   "cell_type": "code",
   "execution_count": 93,
   "metadata": {
    "id": "Q5YkywuNIWnu"
   },
   "outputs": [
    {
     "name": "stdout",
     "output_type": "stream",
     "text": [
      "\n",
      "\n",
      "\n",
      "\n"
     ]
    },
    {
     "data": {
      "image/png": "[encoded data removed]",
      "text/plain": [
       "<Figure size 432x288 with 1 Axes>"
      ]
     },
     "metadata": {},
     "output_type": "display_data"
    },
    {
     "data": {
      "image/png": "[encoded data removed]",
      "text/plain": [
       "<Figure size 432x288 with 1 Axes>"
      ]
     },
     "metadata": {},
     "output_type": "display_data"
    },
    {
     "data": {
      "image/png": "[encoded data removed]",
      "text/plain": [
       "<Figure size 432x288 with 1 Axes>"
      ]
     },
     "metadata": {},
     "output_type": "display_data"
    }
   ],
   "source": [
    "plt.style.use('ggplot')\n",
    "\n",
    "fig1, ax1 = plt.subplots()\n",
    "plt.plot(df['close'], label=\"Close\")\n",
    "plt.plot(df['SMA'], label=\"Short Term Moving Average\")\n",
    "plt.plot(df['LMA'], label=\"Long Term Moving Average\")\n",
    "ax1.xaxis_date()\n",
    "ax1.set_xlabel('Date')\n",
    "ax1.set_ylabel('Price')\n",
    "ax1.set_title('Visualization of Moving Avegages and Closing Price')\n",
    "myFmt = mpl_dates.DateFormatter('%y-%m-%d')\n",
    "ax1.xaxis.set_major_formatter(myFmt)\n",
    "fig1.autofmt_xdate()\n",
    "plt.legend(loc=2, bbox_to_anchor=(1.05, 1)) \n",
    "\n",
    "print('\\n')\n",
    "fig2, ax2 = plt.subplots()\n",
    "plt.plot(df['MI'], label=ind2)\n",
    "ax2.xaxis_date('Momentum Indicator')\n",
    "ax2.set_xlabel('Date')\n",
    "ax2.set_ylabel('')\n",
    "ax2.set_title('Visualation of Momentum Indicator')\n",
    "myFmt = mpl_dates.DateFormatter('%y-%m-%d')\n",
    "ax2.xaxis.set_major_formatter(myFmt)\n",
    "fig2.autofmt_xdate()\n",
    "plt.legend(loc=2, bbox_to_anchor=(1.05, 1)) \n",
    "\n",
    "print('\\n')\n",
    "fig3, ax3 = plt.subplots()\n",
    "candlestick_ohlc(ax3, df.values, width=0.6, colorup='green', colordown='red', alpha=0.8)\n",
    "ax3.xaxis_date()\n",
    "ax3.set_xlabel('Date')\n",
    "ax3.set_ylabel('Price')\n",
    "ax3.set_title('Candle-Stick Graph')\n",
    "myFmt = mpl_dates.DateFormatter('%y-%m-%d')\n",
    "ax3.xaxis.set_major_formatter(myFmt)\n",
    "fig3.autofmt_xdate()\n",
    "\n",
    "plt.show()"
   ]
  }
 ],
 "metadata": {
  "colab": {
   "authorship_tag": "ABX9TyNn5hr/hbZ28UvCoeqFahST",
   "collapsed_sections": [],
   "name": "Stock Market Screener.ipynb",
   "provenance": []
  },
  "kernelspec": {
   "display_name": "Python 3",
   "language": "python",
   "name": "python3"
  },
  "language_info": {
   "codemirror_mode": {
    "name": "ipython",
    "version": 3
   },
   "file_extension": ".py",
   "mimetype": "text/x-python",
   "name": "python",
   "nbconvert_exporter": "python",
   "pygments_lexer": "ipython3",
   "version": "3.8.5"
  }
 },
 "nbformat": 4,
 "nbformat_minor": 1
}
