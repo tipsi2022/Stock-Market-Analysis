{
 "cells": [
  {
   "cell_type": "code",
   "execution_count": 269,
   "metadata": {
    "executionInfo": {
     "elapsed": 56,
     "status": "ok",
     "timestamp": 1621853651026,
     "user": {
      "displayName": "Tipsi Jadav",
      "photoUrl": "",
      "userId": "15573704357476852511"
     },
     "user_tz": -330
    },
    "id": "S1t3dThG_puG"
   },
   "outputs": [],
   "source": [
    "import talib as ta\n",
    "import numpy as np\n",
    "import pandas as pd\n",
    "import yfinance as yf\n",
    "from talib import abstract\n",
    "import matplotlib.pyplot as plt\n",
    "import matplotlib.dates as mpl_dates\n",
    "from mplfinance.original_flavor import candlestick_ohlc"
   ]
  },
  {
   "cell_type": "code",
   "execution_count": 270,
   "metadata": {
    "id": "_y1U1bM4kRy0"
   },
   "outputs": [
    {
     "name": "stdout",
     "output_type": "stream",
     "text": [
      "Enter Ticker Symbol --> INFY\n",
      "Enter Start Time(in yyyy-mm-dd) --> 2020-01-01\n",
      "Enter End Time(in yyyy-mm-dd) --> 2021-06-07\n",
      "Enter Time Interval(valid intervals :- 1h, 1d, 5d, 1wk, 1mo, 3mo) --> 1d\n"
     ]
    }
   ],
   "source": [
    "ticker = input('Enter Ticker Symbol --> ')\n",
    "start_time = input('Enter Start Time(in yyyy-mm-dd) --> ')\n",
    "end_time = input('Enter End Time(in yyyy-mm-dd) --> ')\n",
    "interval_time = input('Enter Time Interval(valid intervals :- 1h, 1d, 5d, 1wk, 1mo, 3mo) --> ')"
   ]
  },
  {
   "cell_type": "code",
   "execution_count": 271,
   "metadata": {
    "id": "tVzFEBpN_p4W"
   },
   "outputs": [
    {
     "name": "stdout",
     "output_type": "stream",
     "text": [
      "[*********************100%***********************]  1 of 1 completed\n"
     ]
    },
    {
     "data": {
      "text/html": [
       "<div>\n",
       "<style scoped>\n",
       "    .dataframe tbody tr th:only-of-type {\n",
       "        vertical-align: middle;\n",
       "    }\n",
       "\n",
       "    .dataframe tbody tr th {\n",
       "        vertical-align: top;\n",
       "    }\n",
       "\n",
       "    .dataframe thead th {\n",
       "        text-align: right;\n",
       "    }\n",
       "</style>\n",
       "<table border=\"1\" class=\"dataframe\">\n",
       "  <thead>\n",
       "    <tr style=\"text-align: right;\">\n",
       "      <th></th>\n",
       "      <th>open</th>\n",
       "      <th>high</th>\n",
       "      <th>low</th>\n",
       "      <th>Close</th>\n",
       "      <th>close</th>\n",
       "      <th>volume</th>\n",
       "    </tr>\n",
       "    <tr>\n",
       "      <th>Date</th>\n",
       "      <th></th>\n",
       "      <th></th>\n",
       "      <th></th>\n",
       "      <th></th>\n",
       "      <th></th>\n",
       "      <th></th>\n",
       "    </tr>\n",
       "  </thead>\n",
       "  <tbody>\n",
       "    <tr>\n",
       "      <th>2019-12-31</th>\n",
       "      <td>10.16</td>\n",
       "      <td>10.32</td>\n",
       "      <td>10.16</td>\n",
       "      <td>10.32</td>\n",
       "      <td>9.964686</td>\n",
       "      <td>5474500</td>\n",
       "    </tr>\n",
       "    <tr>\n",
       "      <th>2020-01-02</th>\n",
       "      <td>10.30</td>\n",
       "      <td>10.34</td>\n",
       "      <td>10.23</td>\n",
       "      <td>10.29</td>\n",
       "      <td>9.935719</td>\n",
       "      <td>5688000</td>\n",
       "    </tr>\n",
       "    <tr>\n",
       "      <th>2020-01-03</th>\n",
       "      <td>10.29</td>\n",
       "      <td>10.35</td>\n",
       "      <td>10.26</td>\n",
       "      <td>10.31</td>\n",
       "      <td>9.955031</td>\n",
       "      <td>6992200</td>\n",
       "    </tr>\n",
       "    <tr>\n",
       "      <th>2020-01-06</th>\n",
       "      <td>10.22</td>\n",
       "      <td>10.25</td>\n",
       "      <td>10.17</td>\n",
       "      <td>10.21</td>\n",
       "      <td>9.858474</td>\n",
       "      <td>10068900</td>\n",
       "    </tr>\n",
       "    <tr>\n",
       "      <th>2020-01-07</th>\n",
       "      <td>10.12</td>\n",
       "      <td>10.17</td>\n",
       "      <td>10.10</td>\n",
       "      <td>10.10</td>\n",
       "      <td>9.752262</td>\n",
       "      <td>10589100</td>\n",
       "    </tr>\n",
       "  </tbody>\n",
       "</table>\n",
       "</div>"
      ],
      "text/plain": [
       "             open   high    low  Close     close    volume\n",
       "Date                                                      \n",
       "2019-12-31  10.16  10.32  10.16  10.32  9.964686   5474500\n",
       "2020-01-02  10.30  10.34  10.23  10.29  9.935719   5688000\n",
       "2020-01-03  10.29  10.35  10.26  10.31  9.955031   6992200\n",
       "2020-01-06  10.22  10.25  10.17  10.21  9.858474  10068900\n",
       "2020-01-07  10.12  10.17  10.10  10.10  9.752262  10589100"
      ]
     },
     "execution_count": 271,
     "metadata": {},
     "output_type": "execute_result"
    }
   ],
   "source": [
    "df = pd.DataFrame()\n",
    "df = yf.download(ticker, start = start_time, end = end_time, interval = interval_time)\n",
    "df = df.rename(columns={'Open': 'open', 'High': 'high', 'Low': 'low', 'Adj Close': 'close', 'Volume': 'volume'})\n",
    "\n",
    "df.head()"
   ]
  },
  {
   "cell_type": "code",
   "execution_count": 272,
   "metadata": {
    "id": "ZLj7O4d9tQzw"
   },
   "outputs": [],
   "source": [
    "def SMA_fun(df, sma_int, lma_int):   \n",
    "    df['SMA'] = abstract.SMA(df, sma_int)\n",
    "    df['LMA'] = abstract.SMA(df, lma_int)\n",
    "\n",
    "    return(df)"
   ]
  },
  {
   "cell_type": "code",
   "execution_count": 273,
   "metadata": {
    "id": "TH6jvz0btQ-i"
   },
   "outputs": [],
   "source": [
    "def EMA_fun(df, sma_int, lma_int):\n",
    "    df['SMA'] = abstract.EMA(df, sma_int)\n",
    "    df['LMA'] = abstract.EMA(df, lma_int)\n",
    "\n",
    "    return(df)"
   ]
  },
  {
   "cell_type": "code",
   "execution_count": 274,
   "metadata": {
    "id": "5o-Ki0GAtRIc"
   },
   "outputs": [],
   "source": [
    "def WMA_fun(df, sma_int, lma_int):\n",
    "    df['SMA'] = abstract.WMA(df, sma_int)\n",
    "    df['LMA'] = abstract.WMA(df, lma_int)\n",
    "\n",
    "    return(df)"
   ]
  },
  {
   "cell_type": "code",
   "execution_count": 275,
   "metadata": {
    "id": "bk_ukCYQtRRz"
   },
   "outputs": [],
   "source": [
    "def DEMA_fun(df, sma_int, lma_int):\n",
    "    df['SMA'] = abstract.DEMA(df, sma_int)\n",
    "    df['LMA'] = abstract.DEMA(df, lma_int)\n",
    "\n",
    "    return(df)"
   ]
  },
  {
   "cell_type": "code",
   "execution_count": 276,
   "metadata": {
    "id": "PqLQPYXutRZo"
   },
   "outputs": [],
   "source": [
    "def TEMA_fun(df, sma_int, lma_int):\n",
    "    df['SMA'] = abstract.TEMA(df, sma_int)\n",
    "    df['LMA'] = abstract.TEMA(df, lma_int)\n",
    "\n",
    "    return(df)"
   ]
  },
  {
   "cell_type": "code",
   "execution_count": 277,
   "metadata": {
    "id": "jJGLLhiUtrmO"
   },
   "outputs": [],
   "source": [
    "def RSI_fun(df):\n",
    "    df['MI'] = abstract.RSI(df, 14)\n",
    "\n",
    "    return(df)"
   ]
  },
  {
   "cell_type": "code",
   "execution_count": 278,
   "metadata": {},
   "outputs": [],
   "source": [
    "def MACD_fun(df):\n",
    "    temp = abstract.MACD(df, fastperiod=12, slowperiod=26)\n",
    "    \n",
    "    df['MI'] = temp['macd']\n",
    "    df['signal_line'] = temp['macdsignal']\n",
    "    \n",
    "    return(df)"
   ]
  },
  {
   "cell_type": "code",
   "execution_count": 279,
   "metadata": {},
   "outputs": [],
   "source": [
    "def ADX_fun(df):\n",
    "    df['MI'] = abstract.ADX(df, 14)\n",
    "\n",
    "    return(df)"
   ]
  },
  {
   "cell_type": "code",
   "execution_count": 280,
   "metadata": {},
   "outputs": [],
   "source": [
    "def SO_fun(df):\n",
    "    temp = abstract.STOCHF(df, fastk_period=14)\n",
    "\n",
    "    df['MI'] = temp['fastk']\n",
    "    \n",
    "    return(df)"
   ]
  },
  {
   "cell_type": "code",
   "execution_count": 281,
   "metadata": {},
   "outputs": [],
   "source": [
    "def WR_fun(df):\n",
    "    df['MI'] = abstract.WILLR(df, 14)\n",
    "\n",
    "    return(df)"
   ]
  },
  {
   "cell_type": "code",
   "execution_count": 282,
   "metadata": {
    "id": "Iy35RfhP_qD-"
   },
   "outputs": [],
   "source": [
    "def strategy(df, lma_int, ind2, stop_loss, stop_profit):\n",
    "    \n",
    "    a = df.shape[0]  \n",
    "    \n",
    "    temp = df.loc[:, ['SMA', 'LMA', 'MI']].copy()\n",
    "    Signal =  np.zeros(a)\n",
    "    \n",
    "    if ind2 == 'RSI':\n",
    "        temp['MI_back'] = temp['MI'].shift(5)\n",
    "        \n",
    "        i = 0\n",
    "        for index,row in temp.iterrows():\n",
    "            if row['SMA'] > row['LMA']:\n",
    "                if row['MI'] > 40 and row['MI_back'] < 40:\n",
    "                    Signal[i] = 1\n",
    "                i += 1\n",
    "            else:\n",
    "                if row['MI'] < 60 and row['MI_back'] > 60:\n",
    "                    Signal[i] = -1\n",
    "                i += 1\n",
    "    elif ind2 == 'MACD':\n",
    "        temp['diff_ms'] = temp['MI'] - df['signal_line']\n",
    "     \n",
    "        i = 0\n",
    "        for index,row in temp.iterrows():\n",
    "            if row['SMA'] > row['LMA']:\n",
    "                if row['diff_ms'] > 0:\n",
    "                    Signal[i] = 1\n",
    "                i += 1\n",
    "            else:\n",
    "                if row['diff_ms'] < 0:\n",
    "                    Signal[i] = -1\n",
    "                i += 1\n",
    "    elif ind2 == 'ADX':\n",
    "        temp['DI+'] = abstract.PLUS_DI(df, 14)\n",
    "        temp['DI-'] = abstract.MINUS_DI(df, 14)\n",
    "        \n",
    "        i = 0\n",
    "        for index,row in temp.iterrows():\n",
    "            if row['SMA'] > row['LMA']:\n",
    "                if (row['DI+'] > row['DI-']) and row['MI'] > 21:\n",
    "                    Signal[i] = 1\n",
    "                i += 1\n",
    "            else:\n",
    "                if (row['DI+'] < row['DI-']) and row['MI'] > 21:\n",
    "                    Signal[i] = -1\n",
    "                i += 1\n",
    "    elif ind2 == 'SO':\n",
    "        temp['MI_back'] = temp['MI'].shift(5)\n",
    "        \n",
    "        i = 0\n",
    "        for index,row in temp.iterrows():\n",
    "            if row['SMA'] > row['LMA']:\n",
    "                if row['MI'] > 20 and row['MI_back'] < 20:\n",
    "                    Signal[i] = 1\n",
    "                i += 1\n",
    "            else:\n",
    "                if row['MI'] < 80 and row['MI_back'] > 80:\n",
    "                    Signal[i] = -1\n",
    "                i += 1\n",
    "    else:\n",
    "        temp['MI_back'] = temp['MI'].shift(5)\n",
    "        \n",
    "        i = 0\n",
    "        for index,row in temp.iterrows():\n",
    "            if row['SMA'] > row['LMA']:\n",
    "                if row['MI'] < -80 and row['MI_back'] > -80:\n",
    "                    Signal[i] = 1\n",
    "                i += 1\n",
    "            else:\n",
    "                if row['MI'] > -20 and row['MI_back'] < -20:\n",
    "                    Signal[i] = -1\n",
    "                i += 1\n",
    "\n",
    "    df['signal'] = Signal\n",
    "        \n",
    "    temp_order = np.zeros(a)\n",
    "    \n",
    "    prev_inv = 0\n",
    "    prev_sig = 0\n",
    "    i = 0\n",
    "    for index,row in df.iterrows():\n",
    "        if row['signal'] == 1 and prev_sig != 1:\n",
    "            prev_sig = 1\n",
    "             \n",
    "            prev_inv = row['open']\n",
    "            \n",
    "            temp_order[i] = prev_sig\n",
    "\n",
    "            i += 1\n",
    "        elif row['signal'] == -1 and prev_sig != -1:\n",
    "            prev_sig = -1\n",
    "\n",
    "            prev_inv = 0\n",
    "            \n",
    "            temp_order[i] = prev_sig\n",
    "\n",
    "            i += 1\n",
    "        else:\n",
    "            pl = ((row['open'] - prev_inv)/prev_inv)*100\n",
    "            if pl > stop_profit and prev_sig == 1:\n",
    "                prev_sig = -1\n",
    "                temp_order[i] = prev_sig\n",
    "                prev_inv = 0\n",
    "                    \n",
    "            elif pl < stop_loss and prev_sig == 1:\n",
    "                prev_sig = -1\n",
    "                temp_order[i] = prev_sig\n",
    "                prev_inv = 0\n",
    "                 \n",
    "                \n",
    "            i += 1\n",
    "        \n",
    "    df['order'] = temp_order\n",
    "\n",
    "    df = df.iloc[lma_int:].copy()\n",
    "\n",
    "    return(df)"
   ]
  },
  {
   "cell_type": "code",
   "execution_count": 283,
   "metadata": {
    "id": "xTNMvFj6GDEa"
   },
   "outputs": [],
   "source": [
    "def backtesting(df, no_of_contracts, capital):\n",
    "    a = df.shape\n",
    " \n",
    "    Total = np.zeros(a[0])\n",
    "    end_pos = np.zeros(a[0])\n",
    "    invested = np.zeros(a[0])\n",
    "\n",
    "    i = 0 \n",
    "    prev_invest = 0\n",
    "    prev_end = 0\n",
    "    for index, row in df.iterrows():\n",
    "        if row['order'] == 1:\n",
    "            Total[i] = capital - (no_of_contracts*row['open'])\n",
    "            capital = Total[i]\n",
    "\n",
    "            prev_invest = row['open']\n",
    "            invested[i] = prev_invest\n",
    "\n",
    "            prev_end = 1\n",
    "            end_pos[i] = prev_end \n",
    "\n",
    "            i += 1\n",
    "      \n",
    "        elif row['order'] == -1:\n",
    "            Total[i] = capital + (no_of_contracts*row['open'])\n",
    "            capital = Total[i]\n",
    "\n",
    "            prev_invest = 0\n",
    "\n",
    "            prev_end = 0\n",
    "            end_pos[i] = prev_end\n",
    "\n",
    "            i += 1\n",
    "        else:\n",
    "            Total[i] = capital \n",
    "  \n",
    "            invested[i] = prev_invest\n",
    "\n",
    "            end_pos[i] = prev_end\n",
    "    \n",
    "            i += 1\n",
    "\n",
    "    df['total'] = Total\n",
    "    df['holdings'] = df['total'] + (end_pos*no_of_contracts*df['open'])\n",
    "  \n",
    "    Returns = np.zeros(a[0])\n",
    "\n",
    "    i = 0 \n",
    "    prev_return = 0\n",
    "    for index, row in df.iterrows():\n",
    "        if end_pos[i] == 1:\n",
    "            prev_return = (row['open'] - invested[i])/invested[i]\n",
    "            Returns[i] = prev_return\n",
    "\n",
    "            i += 1\n",
    "        else:\n",
    "            Returns[i] = prev_return\n",
    "      \n",
    "            i += 1\n",
    "\n",
    "    df['returns'] = Returns \n",
    "\n",
    "    return(df)"
   ]
  },
  {
   "cell_type": "code",
   "execution_count": 284,
   "metadata": {},
   "outputs": [
    {
     "name": "stdout",
     "output_type": "stream",
     "text": [
      "MOVING AVERAGES\n",
      "Simple Moving Average = SMA\n",
      "Exponential Moving Average = EMA\n",
      "Weighted Moving Average = WMA\n",
      "Double Exponential Moving Average = DEMA\n",
      "Triple Exponential Moving Average = TEMA\n",
      "\n",
      "\n",
      "MOMENTUM INDICATORS\n",
      "Relative Strength Index = RSI\n",
      "Moving Average Convergence Divergence = MACD\n",
      "Average Directional Movement Index = ADX\n",
      "Stochastic Oscillator = SO\n",
      "Williams %R = WR\n",
      "\n"
     ]
    }
   ],
   "source": [
    "print('MOVING AVERAGES')\n",
    "print('Simple Moving Average = SMA')\n",
    "print('Exponential Moving Average = EMA')\n",
    "print('Weighted Moving Average = WMA')\n",
    "print('Double Exponential Moving Average = DEMA')\n",
    "print('Triple Exponential Moving Average = TEMA')\n",
    "\n",
    "print('\\n')\n",
    "print('MOMENTUM INDICATORS')\n",
    "print('Relative Strength Index = RSI')\n",
    "print('Moving Average Convergence Divergence = MACD')\n",
    "print('Average Directional Movement Index = ADX')\n",
    "print('Stochastic Oscillator = SO')\n",
    "print('Williams %R = WR\\n')"
   ]
  },
  {
   "cell_type": "code",
   "execution_count": 285,
   "metadata": {
    "id": "V_Znn9pb8Bdk"
   },
   "outputs": [
    {
     "name": "stdout",
     "output_type": "stream",
     "text": [
      "CHOOSE A MOVING AVERAGE --> EMA\n",
      "Enter Short Moving Average Interval --> 7\n",
      "Enter Long Moving Average Interval --> 35\n",
      "\n",
      "\n",
      "CHOOSE MOMENTUM INDICATOR --> ADX\n",
      "\n",
      "\n",
      "Enter number of shares you want to buy --> 3\n",
      "Enter Amount of capital you currently hold --> 1000000000\n",
      "\n",
      "\n",
      "Enter Stop Loss(in %) --> 0.2\n",
      "Enter Stop Profit(in %) --> 7\n"
     ]
    },
    {
     "name": "stderr",
     "output_type": "stream",
     "text": [
      "<ipython-input-282-50ff501d9d00>:100: RuntimeWarning: divide by zero encountered in double_scalars\n",
      "  pl = ((row['open'] - prev_inv)/prev_inv)*100\n"
     ]
    }
   ],
   "source": [
    "ind1 = input('CHOOSE A MOVING AVERAGE --> ')\n",
    "sma_int = int(input('Enter Short Moving Average Interval --> '))\n",
    "lma_int = int(input('Enter Long Moving Average Interval --> '))\n",
    "\n",
    "if ind1 == 'SMA':\n",
    "    df = SMA_fun(df, sma_int, lma_int)\n",
    "elif ind1 == 'EMA':\n",
    "    df = EMA_fun(df, sma_int, lma_int)\n",
    "elif ind1 == 'WMA':\n",
    "    df = WMA_fun(df, sma_int, lma_int)\n",
    "elif ind1 == 'DEMA':\n",
    "    df = DEMA_fun(df, sma_int, lma_int)\n",
    "else:\n",
    "    df = TEMA_fun(df, sma_int, lma_int)\n",
    "\n",
    "print('\\n')\n",
    "ind2 = input('CHOOSE MOMENTUM INDICATOR --> ')\n",
    "\n",
    "if ind2 == 'RSI':\n",
    "    df = RSI_fun(df)\n",
    "elif ind2 == 'MACD':\n",
    "    df = MACD_fun(df)\n",
    "elif ind2 == 'ADX':\n",
    "    df = ADX_fun(df)\n",
    "elif ind2 == 'SO':\n",
    "    df = SO_fun(df)\n",
    "else:\n",
    "    df = WR_fun(df)\n",
    "    \n",
    "print('\\n')\n",
    "no_of_contracts = int(input('Enter number of shares you want to buy --> '))\n",
    "capital = float(input('Enter Amount of capital you currently hold --> '))\n",
    "\n",
    "print('\\n')\n",
    "stop_loss = float(input('Enter Stop Loss(in %) --> '))\n",
    "stop_profit = float(input('Enter Stop Profit(in %) --> '))\n",
    "\n",
    "df = strategy(df, lma_int, ind2, stop_loss, stop_profit)\n",
    "df = backtesting(df, no_of_contracts, capital)"
   ]
  },
  {
   "cell_type": "code",
   "execution_count": 286,
   "metadata": {
    "id": "B5tbG-fBGrqE"
   },
   "outputs": [
    {
     "data": {
      "text/html": [
       "<div>\n",
       "<style scoped>\n",
       "    .dataframe tbody tr th:only-of-type {\n",
       "        vertical-align: middle;\n",
       "    }\n",
       "\n",
       "    .dataframe tbody tr th {\n",
       "        vertical-align: top;\n",
       "    }\n",
       "\n",
       "    .dataframe thead th {\n",
       "        text-align: right;\n",
       "    }\n",
       "</style>\n",
       "<table border=\"1\" class=\"dataframe\">\n",
       "  <thead>\n",
       "    <tr style=\"text-align: right;\">\n",
       "      <th></th>\n",
       "      <th>open</th>\n",
       "      <th>high</th>\n",
       "      <th>low</th>\n",
       "      <th>Close</th>\n",
       "      <th>close</th>\n",
       "      <th>volume</th>\n",
       "      <th>SMA</th>\n",
       "      <th>LMA</th>\n",
       "      <th>MI</th>\n",
       "      <th>signal</th>\n",
       "      <th>order</th>\n",
       "      <th>total</th>\n",
       "      <th>holdings</th>\n",
       "      <th>returns</th>\n",
       "    </tr>\n",
       "    <tr>\n",
       "      <th>Date</th>\n",
       "      <th></th>\n",
       "      <th></th>\n",
       "      <th></th>\n",
       "      <th></th>\n",
       "      <th></th>\n",
       "      <th></th>\n",
       "      <th></th>\n",
       "      <th></th>\n",
       "      <th></th>\n",
       "      <th></th>\n",
       "      <th></th>\n",
       "      <th></th>\n",
       "      <th></th>\n",
       "      <th></th>\n",
       "    </tr>\n",
       "  </thead>\n",
       "  <tbody>\n",
       "    <tr>\n",
       "      <th>2021-06-04</th>\n",
       "      <td>19.209999</td>\n",
       "      <td>19.290001</td>\n",
       "      <td>19.08</td>\n",
       "      <td>19.290001</td>\n",
       "      <td>19.290001</td>\n",
       "      <td>6484000</td>\n",
       "      <td>19.122276</td>\n",
       "      <td>18.519901</td>\n",
       "      <td>17.187078</td>\n",
       "      <td>0.0</td>\n",
       "      <td>0.0</td>\n",
       "      <td>1.000000e+09</td>\n",
       "      <td>1.000000e+09</td>\n",
       "      <td>0.020571</td>\n",
       "    </tr>\n",
       "  </tbody>\n",
       "</table>\n",
       "</div>"
      ],
      "text/plain": [
       "                 open       high    low      Close      close   volume  \\\n",
       "Date                                                                     \n",
       "2021-06-04  19.209999  19.290001  19.08  19.290001  19.290001  6484000   \n",
       "\n",
       "                  SMA        LMA         MI  signal  order         total  \\\n",
       "Date                                                                       \n",
       "2021-06-04  19.122276  18.519901  17.187078     0.0    0.0  1.000000e+09   \n",
       "\n",
       "                holdings   returns  \n",
       "Date                                \n",
       "2021-06-04  1.000000e+09  0.020571  "
      ]
     },
     "execution_count": 286,
     "metadata": {},
     "output_type": "execute_result"
    }
   ],
   "source": [
    "df.tail(1)"
   ]
  },
  {
   "cell_type": "code",
   "execution_count": 287,
   "metadata": {
    "id": "aijO9C1x1T7Q"
   },
   "outputs": [
    {
     "data": {
      "text/plain": [
       "<matplotlib.legend.Legend at 0x224873f5970>"
      ]
     },
     "execution_count": 287,
     "metadata": {},
     "output_type": "execute_result"
    },
    {
     "data": {
      "image/png": "[encoded data removed]",
      "text/plain": [
       "<Figure size 432x288 with 1 Axes>"
      ]
     },
     "metadata": {},
     "output_type": "display_data"
    }
   ],
   "source": [
    "plt.style.use('ggplot')\n",
    "\n",
    "fig, ax = plt.subplots()\n",
    "plt.plot(df['returns'], label=\"Returns\")\n",
    "ax.xaxis_date()\n",
    "ax.set_xlabel('Date')\n",
    "ax.set_ylabel('Returns')\n",
    "ax.set_title('Visualization of Cumulative Profit and Loss')\n",
    "myFmt = mpl_dates.DateFormatter('%y-%m-%d')\n",
    "ax.xaxis.set_major_formatter(myFmt)\n",
    "fig.autofmt_xdate()\n",
    "plt.legend(loc=2, bbox_to_anchor=(1.05, 1)) "
   ]
  },
  {
   "cell_type": "code",
   "execution_count": 288,
   "metadata": {},
   "outputs": [
    {
     "name": "stdout",
     "output_type": "stream",
     "text": [
      "\n",
      "\n",
      "\n",
      "\n"
     ]
    },
    {
     "data": {
      "image/png": "[encoded data removed]",
      "text/plain": [
       "<Figure size 432x288 with 1 Axes>"
      ]
     },
     "metadata": {},
     "output_type": "display_data"
    },
    {
     "data": {
      "image/png": "[encoded data removed]",
      "text/plain": [
       "<Figure size 432x288 with 1 Axes>"
      ]
     },
     "metadata": {},
     "output_type": "display_data"
    },
    {
     "data": {
      "image/png": "[encoded data removed]",
      "text/plain": [
       "<Figure size 432x288 with 1 Axes>"
      ]
     },
     "metadata": {},
     "output_type": "display_data"
    }
   ],
   "source": [
    "plt.style.use('ggplot')\n",
    "\n",
    "fig1, ax1 = plt.subplots() \n",
    "plt.plot(df['close'], label=\"Close\") \n",
    "plt.plot(df['SMA'], label=\"Short Term Moving Average\") \n",
    "plt.plot(df['LMA'], label=\"Long Term Moving Average\") \n",
    "ax1.xaxis_date() \n",
    "ax1.set_xlabel('Date') \n",
    "ax1.set_ylabel('Price') \n",
    "ax1.set_title('Visualization of Moving Avegages and Closing Price') \n",
    "myFmt = mpl_dates.DateFormatter('%y-%m-%d') \n",
    "ax1.xaxis.set_major_formatter(myFmt) \n",
    "fig1.autofmt_xdate() \n",
    "plt.legend(loc=2, bbox_to_anchor=(1.05, 1))\n",
    "\n",
    "print('\\n') \n",
    "\n",
    "fig2, ax2 = plt.subplots() \n",
    "plt.plot(df['MI'], label=ind2) \n",
    "ax2.xaxis_date('Momentum Indicator') \n",
    "ax2.set_xlabel('Date') \n",
    "ax2.set_ylabel('') \n",
    "ax2.set_title('Visualization of Momentum Indicator') \n",
    "myFmt = mpl_dates.DateFormatter('%y-%m-%d') \n",
    "ax2.xaxis.set_major_formatter(myFmt) \n",
    "fig2.autofmt_xdate() \n",
    "plt.legend(loc=2, bbox_to_anchor=(1.05, 1))\n",
    "\n",
    "print('\\n') \n",
    "\n",
    "fig3, ax3 = plt.subplots() \n",
    "candlestick_ohlc(ax3, df.values, width=0.6, colorup='green', colordown='red', alpha=0.8) \n",
    "ax3.xaxis_date() \n",
    "ax3.set_xlabel('Date') \n",
    "ax3.set_ylabel('Price') \n",
    "ax3.set_title('Candle-Stick Graph') \n",
    "myFmt = mpl_dates.DateFormatter('%y-%m-%d') \n",
    "ax3.xaxis.set_major_formatter(myFmt) \n",
    "fig3.autofmt_xdate()\n",
    "\n",
    "plt.show()"
   ]
  }
 ],
 "metadata": {
  "colab": {
   "authorship_tag": "ABX9TyNn5hr/hbZ28UvCoeqFahST",
   "collapsed_sections": [],
   "name": "Stock Market Screener.ipynb",
   "provenance": []
  },
  "kernelspec": {
   "display_name": "Python 3",
   "language": "python",
   "name": "python3"
  },
  "language_info": {
   "codemirror_mode": {
    "name": "ipython",
    "version": 3
   },
   "file_extension": ".py",
   "mimetype": "text/x-python",
   "name": "python",
   "nbconvert_exporter": "python",
   "pygments_lexer": "ipython3",
   "version": "3.8.5"
  }
 },
 "nbformat": 4,
 "nbformat_minor": 1
}
